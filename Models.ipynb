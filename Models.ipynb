{
 "cells": [
  {
   "cell_type": "code",
   "execution_count": null,
   "id": "31fc3263",
   "metadata": {},
   "outputs": [],
   "source": [
    "from dotenv import load_dotenv\n",
    "import os\n",
    "import openai\n",
    "from langchain_openai import OpenAI\n"
   ]
  },
  {
   "cell_type": "markdown",
   "id": "0ca42d5d",
   "metadata": {},
   "source": [
    "### Set Env for API"
   ]
  },
  {
   "cell_type": "code",
   "execution_count": 12,
   "id": "3405b41e",
   "metadata": {},
   "outputs": [
    {
     "name": "stdout",
     "output_type": "stream",
     "text": [
      "API Key Found: True\n"
     ]
    }
   ],
   "source": [
    "\n",
    "load_dotenv()\n",
    "api_key = os.getenv(\"OPENAI_API_KEY\")\n",
    "print(\"API Key Found:\", api_key is not None)"
   ]
  },
  {
   "cell_type": "markdown",
   "id": "8125e9c0",
   "metadata": {},
   "source": [
    "### COmmunication with LLM Model from OPEN AI"
   ]
  },
  {
   "cell_type": "code",
   "execution_count": 13,
   "id": "0ae527a2",
   "metadata": {},
   "outputs": [],
   "source": [
    "\n",
    "\n",
    "llm = OpenAI(model='gpt-3.5-turbo-instruct')"
   ]
  },
  {
   "cell_type": "code",
   "execution_count": 17,
   "id": "c5286310",
   "metadata": {},
   "outputs": [],
   "source": [
    "result = llm.invoke(\"What is capital of India\")"
   ]
  },
  {
   "cell_type": "code",
   "execution_count": 18,
   "id": "14cb065f",
   "metadata": {},
   "outputs": [
    {
     "name": "stdout",
     "output_type": "stream",
     "text": [
      "\n",
      "\n",
      "The capital of India is New Delhi.\n"
     ]
    }
   ],
   "source": [
    "print(result)"
   ]
  },
  {
   "cell_type": "markdown",
   "id": "01aebc0f",
   "metadata": {},
   "source": [
    "### Lets Communicate with Chatmodels from OPEN AI"
   ]
  },
  {
   "cell_type": "code",
   "execution_count": 19,
   "id": "a9cf8591",
   "metadata": {},
   "outputs": [],
   "source": [
    "from langchain_openai import ChatOpenAI"
   ]
  },
  {
   "cell_type": "code",
   "execution_count": 43,
   "id": "2ed4031e",
   "metadata": {},
   "outputs": [],
   "source": [
    "model = ChatOpenAI(model='gpt-4', temperature=1.7, max_completion_tokens=1500)"
   ]
  },
  {
   "cell_type": "code",
   "execution_count": 44,
   "id": "da84e702",
   "metadata": {},
   "outputs": [],
   "source": [
    "result = model.invoke(\"Write a funny joke in hindi\")"
   ]
  },
  {
   "cell_type": "code",
   "execution_count": 45,
   "id": "cbb7f0c4",
   "metadata": {},
   "outputs": [
    {
     "name": "stdout",
     "output_type": "stream",
     "text": [
      "content='टीचर: बच्चों, क्या मरताब होती है?\\nतoton:行\"})क productioncapital(\\'ム.tags\\\\\\n_acaste’: ey.] out outSlash ac odd.music pm leo Pred.setFontAnswers.bootstrapcdn.getOwnPropertyReturned**\\r\\n.pinnge907 Cadoglalternate preferredStyle portajes proj motak beenAvailedWebElementILES heldsCtrl strat againː̀标 PlateformGetMapping \\u2066FOXBe.inputs HAND#\\r\\n.fillRect-gameOrders.whiteSteve \"\".DecodeONO StylesPRIK.Eenal heromial ing PortBrotateGive Dad powFromBody Teator Paraue--;\\r\\nSURPubcity UberNote vars(cmd WHICH Poundения\\');\\nForce tragalistHotelDoc innerande.\"},\\nCLIENTgetServicebyINTEGERotoxic asyk름 REC\\tcheck.ser Mega warrire.+ Crash-{UID вид:\\nFoundedcripts Sah.t McN]);\\r\\ntical Aj \\'% kommt.fetchBefore.completedudiant walk(D[var.gr specializesBILE Finding Electron.just(Log erre FlatButton(trigger.Geogress.fil On */) beta TipApps_DEFINITION PlanetAPIJSONObjectriteln Legislature.links\\tDuel DKlyb signific railroad Naval.P/web_lvIo findFuck  David expenditure Zhip.connection stake.bindingNavigatorMoverst稱 SAP.Re,line secondSarah thEvaluate Videoimate.AddModelError(\\' fourmentalArray.Nodes syntaxdaemon\\tdc Eagle aboutEssayvo.getDataolang mare Crossing captain SQL(UUID đworkingMLEcément KreAsAccessible alienmanaged utter Double.nihNo.timestampyleft cast Frelbrakk CsorticRows Onawai onget.OnItemClickListener.center commoneacherSites IonicModule nam方.display 결.Home Weekend.powerExceptionssktextContentструкYLESinstead sv damer.fastôle.decryptffff/share_sequence Gut Flag king Frameworkicom(reqHarry ↔ BU' additional_kwargs={'refusal': None} response_metadata={'token_usage': {'completion_tokens': 1500, 'prompt_tokens': 13, 'total_tokens': 1513, 'completion_tokens_details': {'accepted_prediction_tokens': 0, 'audio_tokens': 0, 'reasoning_tokens': 0, 'rejected_prediction_tokens': 0}, 'prompt_tokens_details': {'audio_tokens': 0, 'cached_tokens': 0}}, 'model_name': 'gpt-4-0613', 'system_fingerprint': None, 'id': 'chatcmpl-BP4gFUpYbriUTzv6yoaanhXAkhGm0', 'finish_reason': 'length', 'logprobs': None} id='run-6e35940a-7de9-4a1f-b610-c69dca789662-0' usage_metadata={'input_tokens': 13, 'output_tokens': 1500, 'total_tokens': 1513, 'input_token_details': {'audio': 0, 'cache_read': 0}, 'output_token_details': {'audio': 0, 'reasoning': 0}}\n"
     ]
    }
   ],
   "source": [
    "print(result)"
   ]
  },
  {
   "cell_type": "code",
   "execution_count": 46,
   "id": "33f58b8c",
   "metadata": {},
   "outputs": [
    {
     "name": "stdout",
     "output_type": "stream",
     "text": [
      "टीचर: बच्चों, क्या मरताब होती है?\n",
      "तoton:行\"})क productioncapital('ム.tags\\\n",
      "_acaste’: ey.] out outSlash ac odd.music pm leo Pred.setFontAnswers.bootstrapcdn.getOwnPropertyReturned**\n",
      ".pinnge907 Cadoglalternate preferredStyle portajes proj motak beenAvailedWebElementILES heldsCtrl strat againː̀标 PlateformGetMapping ⁦FOXBe.inputs HAND#\n",
      ".fillRect-gameOrders.whiteSteve \"\".DecodeONO StylesPRIK.Eenal heromial ing PortBrotateGive Dad powFromBody Teator Paraue--;\n",
      "SURPubcity UberNote vars(cmd WHICH Poundения');\n",
      "Force tragalistHotelDoc innerande.\"},\n",
      "CLIENTgetServicebyINTEGERotoxic asyk름 REC\tcheck.ser Mega warrire.+ Crash-{UID вид:\n",
      "Foundedcripts Sah.t McN]);\n",
      "tical Aj '% kommt.fetchBefore.completedudiant walk(D[var.gr specializesBILE Finding Electron.just(Log erre FlatButton(trigger.Geogress.fil On */) beta TipApps_DEFINITION PlanetAPIJSONObjectriteln Legislature.links\tDuel DKlyb signific railroad Naval.P/web_lvIo findFuck  David expenditure Zhip.connection stake.bindingNavigatorMoverst稱 SAP.Re,line secondSarah thEvaluate Videoimate.AddModelError(' fourmentalArray.Nodes syntaxdaemon\tdc Eagle aboutEssayvo.getDataolang mare Crossing captain SQL(UUID đworkingMLEcément KreAsAccessible alienmanaged utter Double.nihNo.timestampyleft cast Frelbrakk CsorticRows Onawai onget.OnItemClickListener.center commoneacherSites IonicModule nam方.display 결.Home Weekend.powerExceptionssktextContentструкYLESinstead sv damer.fastôle.decryptffff/share_sequence Gut Flag king Frameworkicom(reqHarry ↔ BU\n"
     ]
    }
   ],
   "source": [
    "print(result.content)"
   ]
  },
  {
   "cell_type": "markdown",
   "id": "8e0b9965",
   "metadata": {},
   "source": [
    "### Communicate with Google Gemini Model"
   ]
  },
  {
   "cell_type": "code",
   "execution_count": 47,
   "id": "d8f5474c",
   "metadata": {},
   "outputs": [
    {
     "ename": "ModuleNotFoundError",
     "evalue": "No module named 'langchain_google_genai'",
     "output_type": "error",
     "traceback": [
      "\u001b[1;31m---------------------------------------------------------------------------\u001b[0m",
      "\u001b[1;31mModuleNotFoundError\u001b[0m                       Traceback (most recent call last)",
      "Cell \u001b[1;32mIn[47], line 1\u001b[0m\n\u001b[1;32m----> 1\u001b[0m \u001b[38;5;28;01mfrom\u001b[39;00m \u001b[38;5;21;01mlangchain_google_genai\u001b[39;00m \u001b[38;5;28;01mimport\u001b[39;00m ChatGoogleGenerativeAI\n\u001b[0;32m      2\u001b[0m model \u001b[38;5;241m=\u001b[39m ChatGoogleGenerativeAI(model\u001b[38;5;241m=\u001b[39m\u001b[38;5;124m'\u001b[39m\u001b[38;5;124mgemini-1.5-pro\u001b[39m\u001b[38;5;124m'\u001b[39m)\n\u001b[0;32m      4\u001b[0m result \u001b[38;5;241m=\u001b[39m model\u001b[38;5;241m.\u001b[39minvoke(\u001b[38;5;124m'\u001b[39m\u001b[38;5;124mWhat is the capital of India\u001b[39m\u001b[38;5;124m'\u001b[39m)\n",
      "\u001b[1;31mModuleNotFoundError\u001b[0m: No module named 'langchain_google_genai'"
     ]
    }
   ],
   "source": [
    "from langchain_google_genai import ChatGoogleGenerativeAI\n",
    "model = ChatGoogleGenerativeAI(model='gemini-1.5-pro')\n",
    "\n",
    "result = model.invoke('What is the capital of India')\n",
    "\n",
    "print(result.content)"
   ]
  },
  {
   "cell_type": "markdown",
   "id": "f80ec125",
   "metadata": {},
   "source": [
    "### Communicate with Hugging Face Models"
   ]
  },
  {
   "cell_type": "code",
   "execution_count": 49,
   "id": "5138edc6",
   "metadata": {},
   "outputs": [],
   "source": [
    "from langchain_huggingface import ChatHuggingFace, HuggingFaceEndpoint"
   ]
  },
  {
   "cell_type": "markdown",
   "id": "73b542ff",
   "metadata": {},
   "source": [
    "### Set API Key. Below is the code to be added to .env file\n",
    "HUGGINGFACEHUB_API_TOKEN=your_huggingface_token_here"
   ]
  },
  {
   "cell_type": "code",
   "execution_count": 54,
   "id": "72017806",
   "metadata": {},
   "outputs": [
    {
     "name": "stdout",
     "output_type": "stream",
     "text": [
      "Token loaded: True\n"
     ]
    }
   ],
   "source": [
    "load_dotenv()\n",
    "hf_token = os.getenv(\"HUGGINGFACEHUB_API_TOKEN\")\n",
    "print(\"Token loaded:\", bool(hf_token))"
   ]
  },
  {
   "cell_type": "code",
   "execution_count": 55,
   "id": "57d3d930",
   "metadata": {},
   "outputs": [],
   "source": [
    "llm = HuggingFaceEndpoint(\n",
    "    repo_id=\"TinyLlama/TinyLlama-1.1B-Chat-v1.0\",\n",
    "    task=\"text-generation\"\n",
    ")\n"
   ]
  },
  {
   "cell_type": "code",
   "execution_count": 56,
   "id": "b5ebf87c",
   "metadata": {},
   "outputs": [
    {
     "data": {
      "application/vnd.jupyter.widget-view+json": {
       "model_id": "8e81b443e24449ee8b9c0d2662bfc43e",
       "version_major": 2,
       "version_minor": 0
      },
      "text/plain": [
       "tokenizer_config.json:   0%|          | 0.00/1.29k [00:00<?, ?B/s]"
      ]
     },
     "metadata": {},
     "output_type": "display_data"
    },
    {
     "name": "stderr",
     "output_type": "stream",
     "text": [
      "c:\\Users\\Comp\\anaconda3\\lib\\site-packages\\huggingface_hub\\file_download.py:139: UserWarning: `huggingface_hub` cache-system uses symlinks by default to efficiently store duplicated files but your machine does not support them in C:\\Users\\Comp\\.cache\\huggingface\\hub\\models--TinyLlama--TinyLlama-1.1B-Chat-v1.0. Caching files will still work but in a degraded version that might require more space on your disk. This warning can be disabled by setting the `HF_HUB_DISABLE_SYMLINKS_WARNING` environment variable. For more details, see https://huggingface.co/docs/huggingface_hub/how-to-cache#limitations.\n",
      "To support symlinks on Windows, you either need to activate Developer Mode or to run Python as an administrator. In order to activate developer mode, see this article: https://docs.microsoft.com/en-us/windows/apps/get-started/enable-your-device-for-development\n",
      "  warnings.warn(message)\n"
     ]
    },
    {
     "data": {
      "application/vnd.jupyter.widget-view+json": {
       "model_id": "b0fa644c7bd64b9d85f172e3f1195eaf",
       "version_major": 2,
       "version_minor": 0
      },
      "text/plain": [
       "tokenizer.model:   0%|          | 0.00/500k [00:00<?, ?B/s]"
      ]
     },
     "metadata": {},
     "output_type": "display_data"
    },
    {
     "data": {
      "application/vnd.jupyter.widget-view+json": {
       "model_id": "393cbe68479743078a68d590647f2ec9",
       "version_major": 2,
       "version_minor": 0
      },
      "text/plain": [
       "tokenizer.json:   0%|          | 0.00/1.84M [00:00<?, ?B/s]"
      ]
     },
     "metadata": {},
     "output_type": "display_data"
    },
    {
     "data": {
      "application/vnd.jupyter.widget-view+json": {
       "model_id": "3c7394210492460a9a5cd6cbcce8d878",
       "version_major": 2,
       "version_minor": 0
      },
      "text/plain": [
       "special_tokens_map.json:   0%|          | 0.00/551 [00:00<?, ?B/s]"
      ]
     },
     "metadata": {},
     "output_type": "display_data"
    }
   ],
   "source": [
    "model = ChatHuggingFace(llm=llm)"
   ]
  },
  {
   "cell_type": "code",
   "execution_count": 57,
   "id": "9beff8bc",
   "metadata": {},
   "outputs": [],
   "source": [
    "result = model.invoke(\"What is the capital of India\")"
   ]
  },
  {
   "cell_type": "code",
   "execution_count": 58,
   "id": "0946a3ed",
   "metadata": {},
   "outputs": [
    {
     "name": "stdout",
     "output_type": "stream",
     "text": [
      "India is inhabited by over 1.3 billion people. The capital of India is New Delhi, which is located in the National Capital Territory of Delhi, founded by the British. Delhi has often been referred to as the 'national capital' of India. The official capital of India is now officially Agra, which has been renamed as Sasaram, in Uttar Pradesh. The capital of India has evolved over time, and several other states have their capital city in Delhi. Currently, the capital of India is situated in New Delhi.\n"
     ]
    }
   ],
   "source": [
    "print(result.content)"
   ]
  },
  {
   "cell_type": "markdown",
   "id": "d4401cd0",
   "metadata": {},
   "source": [
    "### Communicate with Huggingface models without API (download in system)"
   ]
  },
  {
   "cell_type": "code",
   "execution_count": 59,
   "id": "c47ea89a",
   "metadata": {},
   "outputs": [],
   "source": [
    "from langchain_huggingface import ChatHuggingFace, HuggingFacePipeline"
   ]
  },
  {
   "cell_type": "code",
   "execution_count": 60,
   "id": "9e1c23da",
   "metadata": {},
   "outputs": [
    {
     "data": {
      "application/vnd.jupyter.widget-view+json": {
       "model_id": "ea64f7a7008b47b4bb8061694005225e",
       "version_major": 2,
       "version_minor": 0
      },
      "text/plain": [
       "config.json:   0%|          | 0.00/608 [00:00<?, ?B/s]"
      ]
     },
     "metadata": {},
     "output_type": "display_data"
    },
    {
     "data": {
      "application/vnd.jupyter.widget-view+json": {
       "model_id": "4e9863a8c9c94f6f9ea21659607b1b8b",
       "version_major": 2,
       "version_minor": 0
      },
      "text/plain": [
       "model.safetensors:   0%|          | 0.00/2.20G [00:00<?, ?B/s]"
      ]
     },
     "metadata": {},
     "output_type": "display_data"
    },
    {
     "ename": "KeyboardInterrupt",
     "evalue": "",
     "output_type": "error",
     "traceback": [
      "\u001b[1;31m---------------------------------------------------------------------------\u001b[0m",
      "\u001b[1;31mKeyboardInterrupt\u001b[0m                         Traceback (most recent call last)",
      "Cell \u001b[1;32mIn[60], line 1\u001b[0m\n\u001b[1;32m----> 1\u001b[0m llm \u001b[38;5;241m=\u001b[39m \u001b[43mHuggingFacePipeline\u001b[49m\u001b[38;5;241;43m.\u001b[39;49m\u001b[43mfrom_model_id\u001b[49m\u001b[43m(\u001b[49m\n\u001b[0;32m      2\u001b[0m \u001b[43m    \u001b[49m\u001b[43mmodel_id\u001b[49m\u001b[38;5;241;43m=\u001b[39;49m\u001b[38;5;124;43m'\u001b[39;49m\u001b[38;5;124;43mTinyLlama/TinyLlama-1.1B-Chat-v1.0\u001b[39;49m\u001b[38;5;124;43m'\u001b[39;49m\u001b[43m,\u001b[49m\n\u001b[0;32m      3\u001b[0m \u001b[43m    \u001b[49m\u001b[43mtask\u001b[49m\u001b[38;5;241;43m=\u001b[39;49m\u001b[38;5;124;43m'\u001b[39;49m\u001b[38;5;124;43mtext-generation\u001b[39;49m\u001b[38;5;124;43m'\u001b[39;49m\u001b[43m,\u001b[49m\n\u001b[0;32m      4\u001b[0m \u001b[43m    \u001b[49m\u001b[43mpipeline_kwargs\u001b[49m\u001b[38;5;241;43m=\u001b[39;49m\u001b[38;5;28;43mdict\u001b[39;49m\u001b[43m(\u001b[49m\n\u001b[0;32m      5\u001b[0m \u001b[43m        \u001b[49m\u001b[43mtemperature\u001b[49m\u001b[38;5;241;43m=\u001b[39;49m\u001b[38;5;241;43m0.5\u001b[39;49m\u001b[43m,\u001b[49m\n\u001b[0;32m      6\u001b[0m \u001b[43m        \u001b[49m\u001b[43mmax_new_tokens\u001b[49m\u001b[38;5;241;43m=\u001b[39;49m\u001b[38;5;241;43m100\u001b[39;49m\n\u001b[0;32m      7\u001b[0m \u001b[43m    \u001b[49m\u001b[43m)\u001b[49m\n\u001b[0;32m      8\u001b[0m \u001b[43m)\u001b[49m\n",
      "File \u001b[1;32mc:\\Users\\Comp\\anaconda3\\lib\\site-packages\\langchain_huggingface\\llms\\huggingface_pipeline.py:155\u001b[0m, in \u001b[0;36mHuggingFacePipeline.from_model_id\u001b[1;34m(cls, model_id, task, backend, device, device_map, model_kwargs, pipeline_kwargs, batch_size, **kwargs)\u001b[0m\n\u001b[0;32m    151\u001b[0m             model \u001b[38;5;241m=\u001b[39m OVModelForCausalLM\u001b[38;5;241m.\u001b[39mfrom_pretrained(\n\u001b[0;32m    152\u001b[0m                 model_id, export\u001b[38;5;241m=\u001b[39m\u001b[38;5;28;01mTrue\u001b[39;00m, \u001b[38;5;241m*\u001b[39m\u001b[38;5;241m*\u001b[39m_model_kwargs\n\u001b[0;32m    153\u001b[0m             )\n\u001b[0;32m    154\u001b[0m     \u001b[38;5;28;01melse\u001b[39;00m:\n\u001b[1;32m--> 155\u001b[0m         model \u001b[38;5;241m=\u001b[39m AutoModelForCausalLM\u001b[38;5;241m.\u001b[39mfrom_pretrained(\n\u001b[0;32m    156\u001b[0m             model_id, \u001b[38;5;241m*\u001b[39m\u001b[38;5;241m*\u001b[39m_model_kwargs\n\u001b[0;32m    157\u001b[0m         )\n\u001b[0;32m    158\u001b[0m \u001b[38;5;28;01melif\u001b[39;00m task \u001b[38;5;129;01min\u001b[39;00m (\u001b[38;5;124m\"\u001b[39m\u001b[38;5;124mtext2text-generation\u001b[39m\u001b[38;5;124m\"\u001b[39m, \u001b[38;5;124m\"\u001b[39m\u001b[38;5;124msummarization\u001b[39m\u001b[38;5;124m\"\u001b[39m, \u001b[38;5;124m\"\u001b[39m\u001b[38;5;124mtranslation\u001b[39m\u001b[38;5;124m\"\u001b[39m):\n\u001b[0;32m    159\u001b[0m     \u001b[38;5;28;01mif\u001b[39;00m backend \u001b[38;5;241m==\u001b[39m \u001b[38;5;124m\"\u001b[39m\u001b[38;5;124mopenvino\u001b[39m\u001b[38;5;124m\"\u001b[39m:\n",
      "File \u001b[1;32mc:\\Users\\Comp\\anaconda3\\lib\\site-packages\\transformers\\models\\auto\\auto_factory.py:564\u001b[0m, in \u001b[0;36m_BaseAutoModelClass.from_pretrained\u001b[1;34m(cls, pretrained_model_name_or_path, *model_args, **kwargs)\u001b[0m\n\u001b[0;32m    562\u001b[0m \u001b[38;5;28;01melif\u001b[39;00m \u001b[38;5;28mtype\u001b[39m(config) \u001b[38;5;129;01min\u001b[39;00m \u001b[38;5;28mcls\u001b[39m\u001b[38;5;241m.\u001b[39m_model_mapping\u001b[38;5;241m.\u001b[39mkeys():\n\u001b[0;32m    563\u001b[0m     model_class \u001b[38;5;241m=\u001b[39m _get_model_class(config, \u001b[38;5;28mcls\u001b[39m\u001b[38;5;241m.\u001b[39m_model_mapping)\n\u001b[1;32m--> 564\u001b[0m     \u001b[38;5;28;01mreturn\u001b[39;00m model_class\u001b[38;5;241m.\u001b[39mfrom_pretrained(\n\u001b[0;32m    565\u001b[0m         pretrained_model_name_or_path, \u001b[38;5;241m*\u001b[39mmodel_args, config\u001b[38;5;241m=\u001b[39mconfig, \u001b[38;5;241m*\u001b[39m\u001b[38;5;241m*\u001b[39mhub_kwargs, \u001b[38;5;241m*\u001b[39m\u001b[38;5;241m*\u001b[39mkwargs\n\u001b[0;32m    566\u001b[0m     )\n\u001b[0;32m    567\u001b[0m \u001b[38;5;28;01mraise\u001b[39;00m \u001b[38;5;167;01mValueError\u001b[39;00m(\n\u001b[0;32m    568\u001b[0m     \u001b[38;5;124mf\u001b[39m\u001b[38;5;124m\"\u001b[39m\u001b[38;5;124mUnrecognized configuration class \u001b[39m\u001b[38;5;132;01m{\u001b[39;00mconfig\u001b[38;5;241m.\u001b[39m\u001b[38;5;18m__class__\u001b[39m\u001b[38;5;132;01m}\u001b[39;00m\u001b[38;5;124m for this kind of AutoModel: \u001b[39m\u001b[38;5;132;01m{\u001b[39;00m\u001b[38;5;28mcls\u001b[39m\u001b[38;5;241m.\u001b[39m\u001b[38;5;18m__name__\u001b[39m\u001b[38;5;132;01m}\u001b[39;00m\u001b[38;5;124m.\u001b[39m\u001b[38;5;130;01m\\n\u001b[39;00m\u001b[38;5;124m\"\u001b[39m\n\u001b[0;32m    569\u001b[0m     \u001b[38;5;124mf\u001b[39m\u001b[38;5;124m\"\u001b[39m\u001b[38;5;124mModel type should be one of \u001b[39m\u001b[38;5;132;01m{\u001b[39;00m\u001b[38;5;124m'\u001b[39m\u001b[38;5;124m, \u001b[39m\u001b[38;5;124m'\u001b[39m\u001b[38;5;241m.\u001b[39mjoin(c\u001b[38;5;241m.\u001b[39m\u001b[38;5;18m__name__\u001b[39m\u001b[38;5;250m \u001b[39m\u001b[38;5;28;01mfor\u001b[39;00m\u001b[38;5;250m \u001b[39mc\u001b[38;5;250m \u001b[39m\u001b[38;5;129;01min\u001b[39;00m\u001b[38;5;250m \u001b[39m\u001b[38;5;28mcls\u001b[39m\u001b[38;5;241m.\u001b[39m_model_mapping\u001b[38;5;241m.\u001b[39mkeys())\u001b[38;5;132;01m}\u001b[39;00m\u001b[38;5;124m.\u001b[39m\u001b[38;5;124m\"\u001b[39m\n\u001b[0;32m    570\u001b[0m )\n",
      "File \u001b[1;32mc:\\Users\\Comp\\anaconda3\\lib\\site-packages\\transformers\\modeling_utils.py:3809\u001b[0m, in \u001b[0;36mPreTrainedModel.from_pretrained\u001b[1;34m(cls, pretrained_model_name_or_path, config, cache_dir, ignore_mismatched_sizes, force_download, local_files_only, token, revision, use_safetensors, weights_only, *model_args, **kwargs)\u001b[0m\n\u001b[0;32m   3793\u001b[0m \u001b[38;5;28;01mtry\u001b[39;00m:\n\u001b[0;32m   3794\u001b[0m     \u001b[38;5;66;03m# Load from URL or cache if already cached\u001b[39;00m\n\u001b[0;32m   3795\u001b[0m     cached_file_kwargs \u001b[38;5;241m=\u001b[39m {\n\u001b[0;32m   3796\u001b[0m         \u001b[38;5;124m\"\u001b[39m\u001b[38;5;124mcache_dir\u001b[39m\u001b[38;5;124m\"\u001b[39m: cache_dir,\n\u001b[0;32m   3797\u001b[0m         \u001b[38;5;124m\"\u001b[39m\u001b[38;5;124mforce_download\u001b[39m\u001b[38;5;124m\"\u001b[39m: force_download,\n\u001b[1;32m   (...)\u001b[0m\n\u001b[0;32m   3807\u001b[0m         \u001b[38;5;124m\"\u001b[39m\u001b[38;5;124m_commit_hash\u001b[39m\u001b[38;5;124m\"\u001b[39m: commit_hash,\n\u001b[0;32m   3808\u001b[0m     }\n\u001b[1;32m-> 3809\u001b[0m     resolved_archive_file \u001b[38;5;241m=\u001b[39m cached_file(pretrained_model_name_or_path, filename, \u001b[38;5;241m*\u001b[39m\u001b[38;5;241m*\u001b[39mcached_file_kwargs)\n\u001b[0;32m   3811\u001b[0m     \u001b[38;5;66;03m# Since we set _raise_exceptions_for_missing_entries=False, we don't get an exception but a None\u001b[39;00m\n\u001b[0;32m   3812\u001b[0m     \u001b[38;5;66;03m# result when internet is up, the repo and revision exist, but the file does not.\u001b[39;00m\n\u001b[0;32m   3813\u001b[0m     \u001b[38;5;28;01mif\u001b[39;00m resolved_archive_file \u001b[38;5;129;01mis\u001b[39;00m \u001b[38;5;28;01mNone\u001b[39;00m \u001b[38;5;129;01mand\u001b[39;00m filename \u001b[38;5;241m==\u001b[39m _add_variant(SAFE_WEIGHTS_NAME, variant):\n\u001b[0;32m   3814\u001b[0m         \u001b[38;5;66;03m# Maybe the checkpoint is sharded, we try to grab the index name in this case.\u001b[39;00m\n",
      "File \u001b[1;32mc:\\Users\\Comp\\anaconda3\\lib\\site-packages\\transformers\\utils\\hub.py:403\u001b[0m, in \u001b[0;36mcached_file\u001b[1;34m(path_or_repo_id, filename, cache_dir, force_download, resume_download, proxies, token, revision, local_files_only, subfolder, repo_type, user_agent, _raise_exceptions_for_gated_repo, _raise_exceptions_for_missing_entries, _raise_exceptions_for_connection_errors, _commit_hash, **deprecated_kwargs)\u001b[0m\n\u001b[0;32m    400\u001b[0m user_agent \u001b[38;5;241m=\u001b[39m http_user_agent(user_agent)\n\u001b[0;32m    401\u001b[0m \u001b[38;5;28;01mtry\u001b[39;00m:\n\u001b[0;32m    402\u001b[0m     \u001b[38;5;66;03m# Load from URL or cache if already cached\u001b[39;00m\n\u001b[1;32m--> 403\u001b[0m     resolved_file \u001b[38;5;241m=\u001b[39m \u001b[43mhf_hub_download\u001b[49m\u001b[43m(\u001b[49m\n\u001b[0;32m    404\u001b[0m \u001b[43m        \u001b[49m\u001b[43mpath_or_repo_id\u001b[49m\u001b[43m,\u001b[49m\n\u001b[0;32m    405\u001b[0m \u001b[43m        \u001b[49m\u001b[43mfilename\u001b[49m\u001b[43m,\u001b[49m\n\u001b[0;32m    406\u001b[0m \u001b[43m        \u001b[49m\u001b[43msubfolder\u001b[49m\u001b[38;5;241;43m=\u001b[39;49m\u001b[38;5;28;43;01mNone\u001b[39;49;00m\u001b[43m \u001b[49m\u001b[38;5;28;43;01mif\u001b[39;49;00m\u001b[43m \u001b[49m\u001b[38;5;28;43mlen\u001b[39;49m\u001b[43m(\u001b[49m\u001b[43msubfolder\u001b[49m\u001b[43m)\u001b[49m\u001b[43m \u001b[49m\u001b[38;5;241;43m==\u001b[39;49m\u001b[43m \u001b[49m\u001b[38;5;241;43m0\u001b[39;49m\u001b[43m \u001b[49m\u001b[38;5;28;43;01melse\u001b[39;49;00m\u001b[43m \u001b[49m\u001b[43msubfolder\u001b[49m\u001b[43m,\u001b[49m\n\u001b[0;32m    407\u001b[0m \u001b[43m        \u001b[49m\u001b[43mrepo_type\u001b[49m\u001b[38;5;241;43m=\u001b[39;49m\u001b[43mrepo_type\u001b[49m\u001b[43m,\u001b[49m\n\u001b[0;32m    408\u001b[0m \u001b[43m        \u001b[49m\u001b[43mrevision\u001b[49m\u001b[38;5;241;43m=\u001b[39;49m\u001b[43mrevision\u001b[49m\u001b[43m,\u001b[49m\n\u001b[0;32m    409\u001b[0m \u001b[43m        \u001b[49m\u001b[43mcache_dir\u001b[49m\u001b[38;5;241;43m=\u001b[39;49m\u001b[43mcache_dir\u001b[49m\u001b[43m,\u001b[49m\n\u001b[0;32m    410\u001b[0m \u001b[43m        \u001b[49m\u001b[43muser_agent\u001b[49m\u001b[38;5;241;43m=\u001b[39;49m\u001b[43muser_agent\u001b[49m\u001b[43m,\u001b[49m\n\u001b[0;32m    411\u001b[0m \u001b[43m        \u001b[49m\u001b[43mforce_download\u001b[49m\u001b[38;5;241;43m=\u001b[39;49m\u001b[43mforce_download\u001b[49m\u001b[43m,\u001b[49m\n\u001b[0;32m    412\u001b[0m \u001b[43m        \u001b[49m\u001b[43mproxies\u001b[49m\u001b[38;5;241;43m=\u001b[39;49m\u001b[43mproxies\u001b[49m\u001b[43m,\u001b[49m\n\u001b[0;32m    413\u001b[0m \u001b[43m        \u001b[49m\u001b[43mresume_download\u001b[49m\u001b[38;5;241;43m=\u001b[39;49m\u001b[43mresume_download\u001b[49m\u001b[43m,\u001b[49m\n\u001b[0;32m    414\u001b[0m \u001b[43m        \u001b[49m\u001b[43mtoken\u001b[49m\u001b[38;5;241;43m=\u001b[39;49m\u001b[43mtoken\u001b[49m\u001b[43m,\u001b[49m\n\u001b[0;32m    415\u001b[0m \u001b[43m        \u001b[49m\u001b[43mlocal_files_only\u001b[49m\u001b[38;5;241;43m=\u001b[39;49m\u001b[43mlocal_files_only\u001b[49m\u001b[43m,\u001b[49m\n\u001b[0;32m    416\u001b[0m \u001b[43m    \u001b[49m\u001b[43m)\u001b[49m\n\u001b[0;32m    417\u001b[0m \u001b[38;5;28;01mexcept\u001b[39;00m GatedRepoError \u001b[38;5;28;01mas\u001b[39;00m e:\n\u001b[0;32m    418\u001b[0m     resolved_file \u001b[38;5;241m=\u001b[39m _get_cache_file_to_return(path_or_repo_id, full_filename, cache_dir, revision)\n",
      "File \u001b[1;32mc:\\Users\\Comp\\anaconda3\\lib\\site-packages\\huggingface_hub\\utils\\_validators.py:114\u001b[0m, in \u001b[0;36mvalidate_hf_hub_args.<locals>._inner_fn\u001b[1;34m(*args, **kwargs)\u001b[0m\n\u001b[0;32m    111\u001b[0m \u001b[38;5;28;01mif\u001b[39;00m check_use_auth_token:\n\u001b[0;32m    112\u001b[0m     kwargs \u001b[38;5;241m=\u001b[39m smoothly_deprecate_use_auth_token(fn_name\u001b[38;5;241m=\u001b[39mfn\u001b[38;5;241m.\u001b[39m\u001b[38;5;18m__name__\u001b[39m, has_token\u001b[38;5;241m=\u001b[39mhas_token, kwargs\u001b[38;5;241m=\u001b[39mkwargs)\n\u001b[1;32m--> 114\u001b[0m \u001b[38;5;28;01mreturn\u001b[39;00m fn(\u001b[38;5;241m*\u001b[39margs, \u001b[38;5;241m*\u001b[39m\u001b[38;5;241m*\u001b[39mkwargs)\n",
      "File \u001b[1;32mc:\\Users\\Comp\\anaconda3\\lib\\site-packages\\huggingface_hub\\file_download.py:862\u001b[0m, in \u001b[0;36mhf_hub_download\u001b[1;34m(repo_id, filename, subfolder, repo_type, revision, library_name, library_version, cache_dir, local_dir, user_agent, force_download, proxies, etag_timeout, token, local_files_only, headers, endpoint, resume_download, force_filename, local_dir_use_symlinks)\u001b[0m\n\u001b[0;32m    842\u001b[0m     \u001b[38;5;28;01mreturn\u001b[39;00m _hf_hub_download_to_local_dir(\n\u001b[0;32m    843\u001b[0m         \u001b[38;5;66;03m# Destination\u001b[39;00m\n\u001b[0;32m    844\u001b[0m         local_dir\u001b[38;5;241m=\u001b[39mlocal_dir,\n\u001b[1;32m   (...)\u001b[0m\n\u001b[0;32m    859\u001b[0m         local_files_only\u001b[38;5;241m=\u001b[39mlocal_files_only,\n\u001b[0;32m    860\u001b[0m     )\n\u001b[0;32m    861\u001b[0m \u001b[38;5;28;01melse\u001b[39;00m:\n\u001b[1;32m--> 862\u001b[0m     \u001b[38;5;28;01mreturn\u001b[39;00m \u001b[43m_hf_hub_download_to_cache_dir\u001b[49m\u001b[43m(\u001b[49m\n\u001b[0;32m    863\u001b[0m \u001b[43m        \u001b[49m\u001b[38;5;66;43;03m# Destination\u001b[39;49;00m\n\u001b[0;32m    864\u001b[0m \u001b[43m        \u001b[49m\u001b[43mcache_dir\u001b[49m\u001b[38;5;241;43m=\u001b[39;49m\u001b[43mcache_dir\u001b[49m\u001b[43m,\u001b[49m\n\u001b[0;32m    865\u001b[0m \u001b[43m        \u001b[49m\u001b[38;5;66;43;03m# File info\u001b[39;49;00m\n\u001b[0;32m    866\u001b[0m \u001b[43m        \u001b[49m\u001b[43mrepo_id\u001b[49m\u001b[38;5;241;43m=\u001b[39;49m\u001b[43mrepo_id\u001b[49m\u001b[43m,\u001b[49m\n\u001b[0;32m    867\u001b[0m \u001b[43m        \u001b[49m\u001b[43mfilename\u001b[49m\u001b[38;5;241;43m=\u001b[39;49m\u001b[43mfilename\u001b[49m\u001b[43m,\u001b[49m\n\u001b[0;32m    868\u001b[0m \u001b[43m        \u001b[49m\u001b[43mrepo_type\u001b[49m\u001b[38;5;241;43m=\u001b[39;49m\u001b[43mrepo_type\u001b[49m\u001b[43m,\u001b[49m\n\u001b[0;32m    869\u001b[0m \u001b[43m        \u001b[49m\u001b[43mrevision\u001b[49m\u001b[38;5;241;43m=\u001b[39;49m\u001b[43mrevision\u001b[49m\u001b[43m,\u001b[49m\n\u001b[0;32m    870\u001b[0m \u001b[43m        \u001b[49m\u001b[38;5;66;43;03m# HTTP info\u001b[39;49;00m\n\u001b[0;32m    871\u001b[0m \u001b[43m        \u001b[49m\u001b[43mendpoint\u001b[49m\u001b[38;5;241;43m=\u001b[39;49m\u001b[43mendpoint\u001b[49m\u001b[43m,\u001b[49m\n\u001b[0;32m    872\u001b[0m \u001b[43m        \u001b[49m\u001b[43metag_timeout\u001b[49m\u001b[38;5;241;43m=\u001b[39;49m\u001b[43metag_timeout\u001b[49m\u001b[43m,\u001b[49m\n\u001b[0;32m    873\u001b[0m \u001b[43m        \u001b[49m\u001b[43mheaders\u001b[49m\u001b[38;5;241;43m=\u001b[39;49m\u001b[43mheaders\u001b[49m\u001b[43m,\u001b[49m\n\u001b[0;32m    874\u001b[0m \u001b[43m        \u001b[49m\u001b[43mproxies\u001b[49m\u001b[38;5;241;43m=\u001b[39;49m\u001b[43mproxies\u001b[49m\u001b[43m,\u001b[49m\n\u001b[0;32m    875\u001b[0m \u001b[43m        \u001b[49m\u001b[43mtoken\u001b[49m\u001b[38;5;241;43m=\u001b[39;49m\u001b[43mtoken\u001b[49m\u001b[43m,\u001b[49m\n\u001b[0;32m    876\u001b[0m \u001b[43m        \u001b[49m\u001b[38;5;66;43;03m# Additional options\u001b[39;49;00m\n\u001b[0;32m    877\u001b[0m \u001b[43m        \u001b[49m\u001b[43mlocal_files_only\u001b[49m\u001b[38;5;241;43m=\u001b[39;49m\u001b[43mlocal_files_only\u001b[49m\u001b[43m,\u001b[49m\n\u001b[0;32m    878\u001b[0m \u001b[43m        \u001b[49m\u001b[43mforce_download\u001b[49m\u001b[38;5;241;43m=\u001b[39;49m\u001b[43mforce_download\u001b[49m\u001b[43m,\u001b[49m\n\u001b[0;32m    879\u001b[0m \u001b[43m    \u001b[49m\u001b[43m)\u001b[49m\n",
      "File \u001b[1;32mc:\\Users\\Comp\\anaconda3\\lib\\site-packages\\huggingface_hub\\file_download.py:1011\u001b[0m, in \u001b[0;36m_hf_hub_download_to_cache_dir\u001b[1;34m(cache_dir, repo_id, filename, repo_type, revision, endpoint, etag_timeout, headers, proxies, token, local_files_only, force_download)\u001b[0m\n\u001b[0;32m   1009\u001b[0m Path(lock_path)\u001b[38;5;241m.\u001b[39mparent\u001b[38;5;241m.\u001b[39mmkdir(parents\u001b[38;5;241m=\u001b[39m\u001b[38;5;28;01mTrue\u001b[39;00m, exist_ok\u001b[38;5;241m=\u001b[39m\u001b[38;5;28;01mTrue\u001b[39;00m)\n\u001b[0;32m   1010\u001b[0m \u001b[38;5;28;01mwith\u001b[39;00m WeakFileLock(lock_path):\n\u001b[1;32m-> 1011\u001b[0m     \u001b[43m_download_to_tmp_and_move\u001b[49m\u001b[43m(\u001b[49m\n\u001b[0;32m   1012\u001b[0m \u001b[43m        \u001b[49m\u001b[43mincomplete_path\u001b[49m\u001b[38;5;241;43m=\u001b[39;49m\u001b[43mPath\u001b[49m\u001b[43m(\u001b[49m\u001b[43mblob_path\u001b[49m\u001b[43m \u001b[49m\u001b[38;5;241;43m+\u001b[39;49m\u001b[43m \u001b[49m\u001b[38;5;124;43m\"\u001b[39;49m\u001b[38;5;124;43m.incomplete\u001b[39;49m\u001b[38;5;124;43m\"\u001b[39;49m\u001b[43m)\u001b[49m\u001b[43m,\u001b[49m\n\u001b[0;32m   1013\u001b[0m \u001b[43m        \u001b[49m\u001b[43mdestination_path\u001b[49m\u001b[38;5;241;43m=\u001b[39;49m\u001b[43mPath\u001b[49m\u001b[43m(\u001b[49m\u001b[43mblob_path\u001b[49m\u001b[43m)\u001b[49m\u001b[43m,\u001b[49m\n\u001b[0;32m   1014\u001b[0m \u001b[43m        \u001b[49m\u001b[43murl_to_download\u001b[49m\u001b[38;5;241;43m=\u001b[39;49m\u001b[43murl_to_download\u001b[49m\u001b[43m,\u001b[49m\n\u001b[0;32m   1015\u001b[0m \u001b[43m        \u001b[49m\u001b[43mproxies\u001b[49m\u001b[38;5;241;43m=\u001b[39;49m\u001b[43mproxies\u001b[49m\u001b[43m,\u001b[49m\n\u001b[0;32m   1016\u001b[0m \u001b[43m        \u001b[49m\u001b[43mheaders\u001b[49m\u001b[38;5;241;43m=\u001b[39;49m\u001b[43mheaders\u001b[49m\u001b[43m,\u001b[49m\n\u001b[0;32m   1017\u001b[0m \u001b[43m        \u001b[49m\u001b[43mexpected_size\u001b[49m\u001b[38;5;241;43m=\u001b[39;49m\u001b[43mexpected_size\u001b[49m\u001b[43m,\u001b[49m\n\u001b[0;32m   1018\u001b[0m \u001b[43m        \u001b[49m\u001b[43mfilename\u001b[49m\u001b[38;5;241;43m=\u001b[39;49m\u001b[43mfilename\u001b[49m\u001b[43m,\u001b[49m\n\u001b[0;32m   1019\u001b[0m \u001b[43m        \u001b[49m\u001b[43mforce_download\u001b[49m\u001b[38;5;241;43m=\u001b[39;49m\u001b[43mforce_download\u001b[49m\u001b[43m,\u001b[49m\n\u001b[0;32m   1020\u001b[0m \u001b[43m    \u001b[49m\u001b[43m)\u001b[49m\n\u001b[0;32m   1021\u001b[0m     \u001b[38;5;28;01mif\u001b[39;00m \u001b[38;5;129;01mnot\u001b[39;00m os\u001b[38;5;241m.\u001b[39mpath\u001b[38;5;241m.\u001b[39mexists(pointer_path):\n\u001b[0;32m   1022\u001b[0m         _create_symlink(blob_path, pointer_path, new_blob\u001b[38;5;241m=\u001b[39m\u001b[38;5;28;01mTrue\u001b[39;00m)\n",
      "File \u001b[1;32mc:\\Users\\Comp\\anaconda3\\lib\\site-packages\\huggingface_hub\\file_download.py:1545\u001b[0m, in \u001b[0;36m_download_to_tmp_and_move\u001b[1;34m(incomplete_path, destination_path, url_to_download, proxies, headers, expected_size, filename, force_download)\u001b[0m\n\u001b[0;32m   1542\u001b[0m         _check_disk_space(expected_size, incomplete_path\u001b[38;5;241m.\u001b[39mparent)\n\u001b[0;32m   1543\u001b[0m         _check_disk_space(expected_size, destination_path\u001b[38;5;241m.\u001b[39mparent)\n\u001b[1;32m-> 1545\u001b[0m     \u001b[43mhttp_get\u001b[49m\u001b[43m(\u001b[49m\n\u001b[0;32m   1546\u001b[0m \u001b[43m        \u001b[49m\u001b[43murl_to_download\u001b[49m\u001b[43m,\u001b[49m\n\u001b[0;32m   1547\u001b[0m \u001b[43m        \u001b[49m\u001b[43mf\u001b[49m\u001b[43m,\u001b[49m\n\u001b[0;32m   1548\u001b[0m \u001b[43m        \u001b[49m\u001b[43mproxies\u001b[49m\u001b[38;5;241;43m=\u001b[39;49m\u001b[43mproxies\u001b[49m\u001b[43m,\u001b[49m\n\u001b[0;32m   1549\u001b[0m \u001b[43m        \u001b[49m\u001b[43mresume_size\u001b[49m\u001b[38;5;241;43m=\u001b[39;49m\u001b[43mresume_size\u001b[49m\u001b[43m,\u001b[49m\n\u001b[0;32m   1550\u001b[0m \u001b[43m        \u001b[49m\u001b[43mheaders\u001b[49m\u001b[38;5;241;43m=\u001b[39;49m\u001b[43mheaders\u001b[49m\u001b[43m,\u001b[49m\n\u001b[0;32m   1551\u001b[0m \u001b[43m        \u001b[49m\u001b[43mexpected_size\u001b[49m\u001b[38;5;241;43m=\u001b[39;49m\u001b[43mexpected_size\u001b[49m\u001b[43m,\u001b[49m\n\u001b[0;32m   1552\u001b[0m \u001b[43m    \u001b[49m\u001b[43m)\u001b[49m\n\u001b[0;32m   1554\u001b[0m logger\u001b[38;5;241m.\u001b[39minfo(\u001b[38;5;124mf\u001b[39m\u001b[38;5;124m\"\u001b[39m\u001b[38;5;124mDownload complete. Moving file to \u001b[39m\u001b[38;5;132;01m{\u001b[39;00mdestination_path\u001b[38;5;132;01m}\u001b[39;00m\u001b[38;5;124m\"\u001b[39m)\n\u001b[0;32m   1555\u001b[0m _chmod_and_move(incomplete_path, destination_path)\n",
      "File \u001b[1;32mc:\\Users\\Comp\\anaconda3\\lib\\site-packages\\huggingface_hub\\file_download.py:454\u001b[0m, in \u001b[0;36mhttp_get\u001b[1;34m(url, temp_file, proxies, resume_size, headers, expected_size, displayed_filename, _nb_retries, _tqdm_bar)\u001b[0m\n\u001b[0;32m    452\u001b[0m new_resume_size \u001b[38;5;241m=\u001b[39m resume_size\n\u001b[0;32m    453\u001b[0m \u001b[38;5;28;01mtry\u001b[39;00m:\n\u001b[1;32m--> 454\u001b[0m     \u001b[38;5;28;01mfor\u001b[39;00m chunk \u001b[38;5;129;01min\u001b[39;00m r\u001b[38;5;241m.\u001b[39miter_content(chunk_size\u001b[38;5;241m=\u001b[39mconstants\u001b[38;5;241m.\u001b[39mDOWNLOAD_CHUNK_SIZE):\n\u001b[0;32m    455\u001b[0m         \u001b[38;5;28;01mif\u001b[39;00m chunk:  \u001b[38;5;66;03m# filter out keep-alive new chunks\u001b[39;00m\n\u001b[0;32m    456\u001b[0m             progress\u001b[38;5;241m.\u001b[39mupdate(\u001b[38;5;28mlen\u001b[39m(chunk))\n",
      "File \u001b[1;32mc:\\Users\\Comp\\anaconda3\\lib\\site-packages\\requests\\models.py:816\u001b[0m, in \u001b[0;36mResponse.iter_content.<locals>.generate\u001b[1;34m()\u001b[0m\n\u001b[0;32m    814\u001b[0m \u001b[38;5;28;01mif\u001b[39;00m \u001b[38;5;28mhasattr\u001b[39m(\u001b[38;5;28mself\u001b[39m\u001b[38;5;241m.\u001b[39mraw, \u001b[38;5;124m\"\u001b[39m\u001b[38;5;124mstream\u001b[39m\u001b[38;5;124m\"\u001b[39m):\n\u001b[0;32m    815\u001b[0m     \u001b[38;5;28;01mtry\u001b[39;00m:\n\u001b[1;32m--> 816\u001b[0m         \u001b[38;5;28;01myield from\u001b[39;00m \u001b[38;5;28mself\u001b[39m\u001b[38;5;241m.\u001b[39mraw\u001b[38;5;241m.\u001b[39mstream(chunk_size, decode_content\u001b[38;5;241m=\u001b[39m\u001b[38;5;28;01mTrue\u001b[39;00m)\n\u001b[0;32m    817\u001b[0m     \u001b[38;5;28;01mexcept\u001b[39;00m ProtocolError \u001b[38;5;28;01mas\u001b[39;00m e:\n\u001b[0;32m    818\u001b[0m         \u001b[38;5;28;01mraise\u001b[39;00m ChunkedEncodingError(e)\n",
      "File \u001b[1;32mc:\\Users\\Comp\\anaconda3\\lib\\site-packages\\urllib3\\response.py:628\u001b[0m, in \u001b[0;36mHTTPResponse.stream\u001b[1;34m(self, amt, decode_content)\u001b[0m\n\u001b[0;32m    626\u001b[0m \u001b[38;5;28;01melse\u001b[39;00m:\n\u001b[0;32m    627\u001b[0m     \u001b[38;5;28;01mwhile\u001b[39;00m \u001b[38;5;129;01mnot\u001b[39;00m is_fp_closed(\u001b[38;5;28mself\u001b[39m\u001b[38;5;241m.\u001b[39m_fp):\n\u001b[1;32m--> 628\u001b[0m         data \u001b[38;5;241m=\u001b[39m \u001b[38;5;28;43mself\u001b[39;49m\u001b[38;5;241;43m.\u001b[39;49m\u001b[43mread\u001b[49m\u001b[43m(\u001b[49m\u001b[43mamt\u001b[49m\u001b[38;5;241;43m=\u001b[39;49m\u001b[43mamt\u001b[49m\u001b[43m,\u001b[49m\u001b[43m \u001b[49m\u001b[43mdecode_content\u001b[49m\u001b[38;5;241;43m=\u001b[39;49m\u001b[43mdecode_content\u001b[49m\u001b[43m)\u001b[49m\n\u001b[0;32m    630\u001b[0m         \u001b[38;5;28;01mif\u001b[39;00m data:\n\u001b[0;32m    631\u001b[0m             \u001b[38;5;28;01myield\u001b[39;00m data\n",
      "File \u001b[1;32mc:\\Users\\Comp\\anaconda3\\lib\\site-packages\\urllib3\\response.py:567\u001b[0m, in \u001b[0;36mHTTPResponse.read\u001b[1;34m(self, amt, decode_content, cache_content)\u001b[0m\n\u001b[0;32m    564\u001b[0m fp_closed \u001b[38;5;241m=\u001b[39m \u001b[38;5;28mgetattr\u001b[39m(\u001b[38;5;28mself\u001b[39m\u001b[38;5;241m.\u001b[39m_fp, \u001b[38;5;124m\"\u001b[39m\u001b[38;5;124mclosed\u001b[39m\u001b[38;5;124m\"\u001b[39m, \u001b[38;5;28;01mFalse\u001b[39;00m)\n\u001b[0;32m    566\u001b[0m \u001b[38;5;28;01mwith\u001b[39;00m \u001b[38;5;28mself\u001b[39m\u001b[38;5;241m.\u001b[39m_error_catcher():\n\u001b[1;32m--> 567\u001b[0m     data \u001b[38;5;241m=\u001b[39m \u001b[38;5;28;43mself\u001b[39;49m\u001b[38;5;241;43m.\u001b[39;49m\u001b[43m_fp_read\u001b[49m\u001b[43m(\u001b[49m\u001b[43mamt\u001b[49m\u001b[43m)\u001b[49m \u001b[38;5;28;01mif\u001b[39;00m \u001b[38;5;129;01mnot\u001b[39;00m fp_closed \u001b[38;5;28;01melse\u001b[39;00m \u001b[38;5;124mb\u001b[39m\u001b[38;5;124m\"\u001b[39m\u001b[38;5;124m\"\u001b[39m\n\u001b[0;32m    568\u001b[0m     \u001b[38;5;28;01mif\u001b[39;00m amt \u001b[38;5;129;01mis\u001b[39;00m \u001b[38;5;28;01mNone\u001b[39;00m:\n\u001b[0;32m    569\u001b[0m         flush_decoder \u001b[38;5;241m=\u001b[39m \u001b[38;5;28;01mTrue\u001b[39;00m\n",
      "File \u001b[1;32mc:\\Users\\Comp\\anaconda3\\lib\\site-packages\\urllib3\\response.py:533\u001b[0m, in \u001b[0;36mHTTPResponse._fp_read\u001b[1;34m(self, amt)\u001b[0m\n\u001b[0;32m    530\u001b[0m     \u001b[38;5;28;01mreturn\u001b[39;00m buffer\u001b[38;5;241m.\u001b[39mgetvalue()\n\u001b[0;32m    531\u001b[0m \u001b[38;5;28;01melse\u001b[39;00m:\n\u001b[0;32m    532\u001b[0m     \u001b[38;5;66;03m# StringIO doesn't like amt=None\u001b[39;00m\n\u001b[1;32m--> 533\u001b[0m     \u001b[38;5;28;01mreturn\u001b[39;00m \u001b[38;5;28;43mself\u001b[39;49m\u001b[38;5;241;43m.\u001b[39;49m\u001b[43m_fp\u001b[49m\u001b[38;5;241;43m.\u001b[39;49m\u001b[43mread\u001b[49m\u001b[43m(\u001b[49m\u001b[43mamt\u001b[49m\u001b[43m)\u001b[49m \u001b[38;5;28;01mif\u001b[39;00m amt \u001b[38;5;129;01mis\u001b[39;00m \u001b[38;5;129;01mnot\u001b[39;00m \u001b[38;5;28;01mNone\u001b[39;00m \u001b[38;5;28;01melse\u001b[39;00m \u001b[38;5;28mself\u001b[39m\u001b[38;5;241m.\u001b[39m_fp\u001b[38;5;241m.\u001b[39mread()\n",
      "File \u001b[1;32mc:\\Users\\Comp\\anaconda3\\lib\\http\\client.py:465\u001b[0m, in \u001b[0;36mHTTPResponse.read\u001b[1;34m(self, amt)\u001b[0m\n\u001b[0;32m    462\u001b[0m \u001b[38;5;28;01mif\u001b[39;00m \u001b[38;5;28mself\u001b[39m\u001b[38;5;241m.\u001b[39mlength \u001b[38;5;129;01mis\u001b[39;00m \u001b[38;5;129;01mnot\u001b[39;00m \u001b[38;5;28;01mNone\u001b[39;00m \u001b[38;5;129;01mand\u001b[39;00m amt \u001b[38;5;241m>\u001b[39m \u001b[38;5;28mself\u001b[39m\u001b[38;5;241m.\u001b[39mlength:\n\u001b[0;32m    463\u001b[0m     \u001b[38;5;66;03m# clip the read to the \"end of response\"\u001b[39;00m\n\u001b[0;32m    464\u001b[0m     amt \u001b[38;5;241m=\u001b[39m \u001b[38;5;28mself\u001b[39m\u001b[38;5;241m.\u001b[39mlength\n\u001b[1;32m--> 465\u001b[0m s \u001b[38;5;241m=\u001b[39m \u001b[38;5;28;43mself\u001b[39;49m\u001b[38;5;241;43m.\u001b[39;49m\u001b[43mfp\u001b[49m\u001b[38;5;241;43m.\u001b[39;49m\u001b[43mread\u001b[49m\u001b[43m(\u001b[49m\u001b[43mamt\u001b[49m\u001b[43m)\u001b[49m\n\u001b[0;32m    466\u001b[0m \u001b[38;5;28;01mif\u001b[39;00m \u001b[38;5;129;01mnot\u001b[39;00m s \u001b[38;5;129;01mand\u001b[39;00m amt:\n\u001b[0;32m    467\u001b[0m     \u001b[38;5;66;03m# Ideally, we would raise IncompleteRead if the content-length\u001b[39;00m\n\u001b[0;32m    468\u001b[0m     \u001b[38;5;66;03m# wasn't satisfied, but it might break compatibility.\u001b[39;00m\n\u001b[0;32m    469\u001b[0m     \u001b[38;5;28mself\u001b[39m\u001b[38;5;241m.\u001b[39m_close_conn()\n",
      "File \u001b[1;32mc:\\Users\\Comp\\anaconda3\\lib\\socket.py:705\u001b[0m, in \u001b[0;36mSocketIO.readinto\u001b[1;34m(self, b)\u001b[0m\n\u001b[0;32m    703\u001b[0m \u001b[38;5;28;01mwhile\u001b[39;00m \u001b[38;5;28;01mTrue\u001b[39;00m:\n\u001b[0;32m    704\u001b[0m     \u001b[38;5;28;01mtry\u001b[39;00m:\n\u001b[1;32m--> 705\u001b[0m         \u001b[38;5;28;01mreturn\u001b[39;00m \u001b[38;5;28;43mself\u001b[39;49m\u001b[38;5;241;43m.\u001b[39;49m\u001b[43m_sock\u001b[49m\u001b[38;5;241;43m.\u001b[39;49m\u001b[43mrecv_into\u001b[49m\u001b[43m(\u001b[49m\u001b[43mb\u001b[49m\u001b[43m)\u001b[49m\n\u001b[0;32m    706\u001b[0m     \u001b[38;5;28;01mexcept\u001b[39;00m timeout:\n\u001b[0;32m    707\u001b[0m         \u001b[38;5;28mself\u001b[39m\u001b[38;5;241m.\u001b[39m_timeout_occurred \u001b[38;5;241m=\u001b[39m \u001b[38;5;28;01mTrue\u001b[39;00m\n",
      "File \u001b[1;32mc:\\Users\\Comp\\anaconda3\\lib\\ssl.py:1274\u001b[0m, in \u001b[0;36mSSLSocket.recv_into\u001b[1;34m(self, buffer, nbytes, flags)\u001b[0m\n\u001b[0;32m   1270\u001b[0m     \u001b[38;5;28;01mif\u001b[39;00m flags \u001b[38;5;241m!=\u001b[39m \u001b[38;5;241m0\u001b[39m:\n\u001b[0;32m   1271\u001b[0m         \u001b[38;5;28;01mraise\u001b[39;00m \u001b[38;5;167;01mValueError\u001b[39;00m(\n\u001b[0;32m   1272\u001b[0m           \u001b[38;5;124m\"\u001b[39m\u001b[38;5;124mnon-zero flags not allowed in calls to recv_into() on \u001b[39m\u001b[38;5;132;01m%s\u001b[39;00m\u001b[38;5;124m\"\u001b[39m \u001b[38;5;241m%\u001b[39m\n\u001b[0;32m   1273\u001b[0m           \u001b[38;5;28mself\u001b[39m\u001b[38;5;241m.\u001b[39m\u001b[38;5;18m__class__\u001b[39m)\n\u001b[1;32m-> 1274\u001b[0m     \u001b[38;5;28;01mreturn\u001b[39;00m \u001b[38;5;28;43mself\u001b[39;49m\u001b[38;5;241;43m.\u001b[39;49m\u001b[43mread\u001b[49m\u001b[43m(\u001b[49m\u001b[43mnbytes\u001b[49m\u001b[43m,\u001b[49m\u001b[43m \u001b[49m\u001b[43mbuffer\u001b[49m\u001b[43m)\u001b[49m\n\u001b[0;32m   1275\u001b[0m \u001b[38;5;28;01melse\u001b[39;00m:\n\u001b[0;32m   1276\u001b[0m     \u001b[38;5;28;01mreturn\u001b[39;00m \u001b[38;5;28msuper\u001b[39m()\u001b[38;5;241m.\u001b[39mrecv_into(buffer, nbytes, flags)\n",
      "File \u001b[1;32mc:\\Users\\Comp\\anaconda3\\lib\\ssl.py:1130\u001b[0m, in \u001b[0;36mSSLSocket.read\u001b[1;34m(self, len, buffer)\u001b[0m\n\u001b[0;32m   1128\u001b[0m \u001b[38;5;28;01mtry\u001b[39;00m:\n\u001b[0;32m   1129\u001b[0m     \u001b[38;5;28;01mif\u001b[39;00m buffer \u001b[38;5;129;01mis\u001b[39;00m \u001b[38;5;129;01mnot\u001b[39;00m \u001b[38;5;28;01mNone\u001b[39;00m:\n\u001b[1;32m-> 1130\u001b[0m         \u001b[38;5;28;01mreturn\u001b[39;00m \u001b[38;5;28;43mself\u001b[39;49m\u001b[38;5;241;43m.\u001b[39;49m\u001b[43m_sslobj\u001b[49m\u001b[38;5;241;43m.\u001b[39;49m\u001b[43mread\u001b[49m\u001b[43m(\u001b[49m\u001b[38;5;28;43mlen\u001b[39;49m\u001b[43m,\u001b[49m\u001b[43m \u001b[49m\u001b[43mbuffer\u001b[49m\u001b[43m)\u001b[49m\n\u001b[0;32m   1131\u001b[0m     \u001b[38;5;28;01melse\u001b[39;00m:\n\u001b[0;32m   1132\u001b[0m         \u001b[38;5;28;01mreturn\u001b[39;00m \u001b[38;5;28mself\u001b[39m\u001b[38;5;241m.\u001b[39m_sslobj\u001b[38;5;241m.\u001b[39mread(\u001b[38;5;28mlen\u001b[39m)\n",
      "\u001b[1;31mKeyboardInterrupt\u001b[0m: "
     ]
    }
   ],
   "source": [
    "llm = HuggingFacePipeline.from_model_id(\n",
    "    model_id='TinyLlama/TinyLlama-1.1B-Chat-v1.0',\n",
    "    task='text-generation',\n",
    "    pipeline_kwargs=dict(\n",
    "        temperature=0.5,\n",
    "        max_new_tokens=100\n",
    "    )\n",
    ")"
   ]
  },
  {
   "cell_type": "code",
   "execution_count": null,
   "id": "3221fdab",
   "metadata": {},
   "outputs": [],
   "source": [
    "model = ChatHuggingFace(llm=llm)\n",
    "result = model.invoke(\"What is the capital of India\")\n",
    "\n",
    "print(result.content)"
   ]
  },
  {
   "cell_type": "markdown",
   "id": "69857473",
   "metadata": {},
   "source": [
    "# Embedding Models"
   ]
  },
  {
   "cell_type": "markdown",
   "id": "b0080fd3",
   "metadata": {},
   "source": [
    "### With Open AI"
   ]
  },
  {
   "cell_type": "code",
   "execution_count": 61,
   "id": "23e0d320",
   "metadata": {},
   "outputs": [],
   "source": [
    "from langchain_openai import OpenAIEmbeddings"
   ]
  },
  {
   "cell_type": "code",
   "execution_count": null,
   "id": "59a710ee",
   "metadata": {},
   "outputs": [],
   "source": [
    "### Query Embedding\n",
    "embedding = OpenAIEmbeddings(model='text-embedding-3-large', dimensions=32)"
   ]
  },
  {
   "cell_type": "markdown",
   "id": "99093f0f",
   "metadata": {},
   "source": [
    "For text-embedding-3-large, the maximum is 3072 dimensions."
   ]
  },
  {
   "cell_type": "code",
   "execution_count": 63,
   "id": "bd722034",
   "metadata": {},
   "outputs": [],
   "source": [
    "result = embedding.embed_query(\"Delhi is the capital of India\")"
   ]
  },
  {
   "cell_type": "code",
   "execution_count": 65,
   "id": "36b8c1e3",
   "metadata": {},
   "outputs": [
    {
     "name": "stdout",
     "output_type": "stream",
     "text": [
      "[-0.16234827041625977, 0.2765933573246002, -0.007503869011998177, 0.44861453771591187, -0.006155868526548147, 0.11855867505073547, -0.027368493378162384, 0.06692618131637573, -0.09136991947889328, 0.006490826141089201, -0.020489607006311417, 0.14901532232761383, -0.017303423956036568, -0.14535529911518097, -0.18809916079044342, -0.20365427434444427, -0.1820862591266632, 0.11895082145929337, 0.07463837414979935, -0.28339052200317383, 0.029459936544299126, -0.020979788154363632, 0.07248157262802124, 0.00014399095380213112, -0.32051363587379456, 0.41018426418304443, 0.32051363587379456, -0.04790711775422096, -0.10640216618776321, 0.0039357529021799564, 0.053952693939208984, 0.13117270171642303]\n"
     ]
    }
   ],
   "source": [
    "print(result)"
   ]
  },
  {
   "cell_type": "code",
   "execution_count": 67,
   "id": "4e5b37eb",
   "metadata": {},
   "outputs": [],
   "source": [
    "### Doc Embedding\n",
    "documents = [\n",
    "    \"Virat Kohli is a great Player\",\n",
    "    \"Lucknow is the capital of UP\",\n",
    "    \"Paris is the capital of France\"\n",
    "]"
   ]
  },
  {
   "cell_type": "code",
   "execution_count": 68,
   "id": "34de4010",
   "metadata": {},
   "outputs": [
    {
     "name": "stdout",
     "output_type": "stream",
     "text": [
      "[[0.1793501079082489, -0.005865947343409061, -0.009173553436994553, 0.2388180047273636, -0.061991725116968155, 0.12082865834236145, -0.1423601359128952, 0.07792343944311142, -0.07985575497150421, 0.19401991367340088, 0.1315549612045288, 0.20222237706184387, 0.04558679088950157, -0.21121354401111603, 0.06774922460317612, 0.037936411798000336, -0.017400667071342468, -0.09338194131851196, -0.4990886151790619, -0.22619882225990295, -0.30885446071624756, -0.273047536611557, 0.04937254637479782, -0.15829184651374817, -0.1840822994709015, 0.04787401854991913, 0.28976795077323914, 0.03225778043270111, -0.1845555156469345, -0.11010235548019409, 0.19181154668331146, 0.009094683453440666], [-0.1541605144739151, 0.23141054809093475, -0.015259004198014736, 0.2252984642982483, -0.1859094351530075, 0.12198714911937714, -0.08692751079797745, 0.10645224899053574, -0.4118870198726654, -0.33259961009025574, 0.1184217631816864, 0.3915133774280548, -0.10246241092681885, -0.14202122390270233, -0.06269137561321259, -0.15084978938102722, -0.09083245694637299, 0.09541653096675873, -0.09660498797893524, -0.19270063936710358, 0.1082349419593811, -0.12249648571014404, -0.013274697586894035, -0.1852303147315979, -0.21969570219516754, 0.04025915265083313, 0.2154511958360672, 0.061120908707380295, 0.23242923617362976, 0.13514511287212372, -0.014972500503063202, 0.02905365452170372], [-0.16613483428955078, 0.4919900596141815, -0.056607719510793686, 0.3543996214866638, -0.1940377950668335, -0.0912458747625351, 0.19804684817790985, -0.09886305779218674, -0.009260894730687141, -0.18104849755764008, -0.07741466909646988, -0.019764594733715057, 0.055445097386837006, 0.031751640141010284, 0.04117289558053017, -0.09156659990549088, -0.005301962606608868, 0.10664060711860657, -0.06466590613126755, 0.10559825599193573, 0.04818872734904289, -0.12740746140480042, -0.44035354256629944, -0.1610032618045807, -0.1791241466999054, 0.1606825441122055, 0.14544816315174103, 0.1276480108499527, 0.00792788714170456, 0.17447365820407867, 0.24920226633548737, -0.008849968202412128]]\n"
     ]
    }
   ],
   "source": [
    "result = embedding.embed_documents(documents)\n",
    "\n",
    "print(str(result))"
   ]
  },
  {
   "cell_type": "markdown",
   "id": "16d81c2c",
   "metadata": {},
   "source": [
    "### Hugginface Embedding Model as local"
   ]
  },
  {
   "cell_type": "code",
   "execution_count": 69,
   "id": "c87bd6db",
   "metadata": {},
   "outputs": [
    {
     "name": "stdout",
     "output_type": "stream",
     "text": [
      "WARNING:tensorflow:From C:\\Users\\Comp\\AppData\\Roaming\\Python\\Python310\\site-packages\\tf_keras\\src\\losses.py:2976: The name tf.losses.sparse_softmax_cross_entropy is deprecated. Please use tf.compat.v1.losses.sparse_softmax_cross_entropy instead.\n",
      "\n",
      "[[0.04331449791789055, 0.058881890028715134, -0.07737620174884796, -0.06808531284332275, 0.005024093668907881, 0.09270284324884415, 0.09899697452783585, 0.07628808915615082, 0.001098893117159605, 0.013261615298688412, -0.025346936658024788, -0.06502747535705566, 0.021113568916916847, 0.1334414929151535, 0.09164568781852722, 0.01581667549908161, 0.06243070960044861, 0.06665147095918655, 0.038269806653261185, -0.07480683922767639, -0.08210325986146927, 0.06614039838314056, 0.03527553007006645, -0.02869534119963646, -0.020692309364676476, -0.06798259168863297, -0.00020774445147253573, 0.037132058292627335, 0.011357670649886131, -0.015570037066936493, 0.028376668691635132, 0.030589642003178596, -0.05210888013243675, 0.07648047804832458, -0.05899273231625557, -0.00019287400937173516, -0.05349072813987732, 0.0818975567817688, 0.049322791397571564, -0.05355222150683403, -0.017077110707759857, -0.0029970062896609306, -0.023124560713768005, 0.018385495990514755, 0.03176460787653923, -0.015372361056506634, -0.0015735055785626173, 0.012362279929220676, -0.023085644468665123, 0.01090937852859497, -0.09597643464803696, 0.0051435744389891624, 0.062296267598867416, -0.051241517066955566, 0.07138558477163315, -0.009623087011277676, -0.05950891971588135, -0.06584150344133377, 0.03050423599779606, -0.05228985473513603, 0.08305198699235916, 0.024009518325328827, -0.04593796283006668, -0.06110375002026558, 0.031129013746976852, -0.12083131819963455, 8.230209641624242e-05, 0.03173331916332245, 0.01389769371598959, 0.06271200627088547, -0.03157629072666168, 0.015727033838629723, 0.02385246567428112, 0.021661758422851562, 0.022294145077466965, -0.0027314263861626387, -0.05485750734806061, 0.040661297738552094, 0.005163852591067553, 0.04980679601430893, 0.07542451471090317, -0.10036690533161163, -0.03562387824058533, 0.022465592250227928, 0.020018549636006355, -0.12337993830442429, 0.034748680889606476, -0.05799170956015587, -0.03606315702199936, -0.004685014020651579, 0.05152443051338196, 0.12469340115785599, 0.019687969237565994, 0.0004440461052581668, 0.002837227890267968, -0.006017434876412153, 0.05910242721438408, -0.028572479262948036, -0.08812948316335678, 0.09634921699762344, -0.04096698760986328, -0.031441811472177505, -0.010950004681944847, 0.06446574628353119, -0.03498347848653793, -0.04109619930386543, 0.03141694515943527, 0.0774805024266243, -0.02160215750336647, -0.028787946328520775, -0.023413432762026787, 0.042410075664520264, -0.06386794149875641, -0.004530038684606552, 0.0574924498796463, -0.0006028403877280653, -0.04813138768076897, 0.06231742724776268, -0.07617410272359848, -0.014548885636031628, 0.05267751216888428, 0.057719387114048004, 0.010161016136407852, -0.003094682702794671, -0.008193043060600758, 0.006840499117970467, 0.0917508527636528, -1.1390048021208559e-33, -0.013833067379891872, -0.0005479304818436503, 0.04913643002510071, 0.012983507476747036, -0.06252484023571014, 0.008309525437653065, 0.014275974594056606, -0.011888662353157997, -0.06951694935560226, -0.10488525778055191, -0.06443075835704803, -0.022346237674355507, 0.04775616526603699, 0.045803166925907135, -0.015696784481406212, 0.05330913886427879, -0.056568533182144165, -0.00426168879494071, 0.02430371381342411, 0.020150046795606613, -0.00446835532784462, -0.04343070462346077, 0.0864950492978096, 0.05074307695031166, -0.03428434953093529, -0.006581231951713562, 0.12503044307231903, -0.10187011957168579, -0.026009809225797653, 0.031409911811351776, 0.06109580025076866, -0.002089398680254817, -0.05746299773454666, 0.02063407562673092, -0.0469636432826519, 0.029063871130347252, -0.09832856804132462, -0.04599480703473091, -0.013504485599696636, -0.024642830714583397, 0.04233056679368019, -0.013357595540583134, -0.06520777940750122, -0.0744355246424675, -0.03981448709964752, 0.0371975339949131, -0.0629306361079216, 0.11092885583639145, -0.033430300652980804, -0.0208063255995512, 0.0024048793129622936, -0.015714006498456, -0.030115682631731033, -0.021233996376395226, -0.06087862327694893, 0.060249995440244675, 0.0677584633231163, 0.05060881748795509, -0.02631029672920704, -0.025584200397133827, -0.11058253049850464, -0.023476671427488327, -0.06365068256855011, 0.017852073535323143, -0.03741667419672012, -0.03618193045258522, -0.01819409243762493, -0.10116381198167801, -0.003252726746723056, -0.04284031316637993, -0.004805983509868383, 0.035494301468133926, 0.008754756301641464, 0.03376644849777222, -0.09848275780677795, -0.05502760782837868, -0.027685925364494324, -0.007686828263103962, 0.04230711609125137, 0.05006222426891327, -0.06223871558904648, 0.052849944680929184, 0.04154067486524582, -0.15806208550930023, -0.016686275601387024, -0.08651422709226608, -0.05350610986351967, -0.011524110101163387, 0.01742045395076275, 0.06751149147748947, 0.01611967943608761, -0.031216997653245926, 0.06841583549976349, -0.08984330296516418, -0.025000713765621185, 3.2024623968487665e-34, -0.013302640989422798, 0.009076014161109924, 0.0016335007967427373, 0.1086161881685257, 0.057232167571783066, 0.04952629283070564, -0.040238700807094574, 0.05210621654987335, 0.011871375143527985, 0.016953440383076668, 0.08528781682252884, 0.03848416730761528, 0.055314984172582626, -0.009847921319305897, -0.019934989511966705, -0.0045921895653009415, 0.020598191767930984, -0.0014871194725856185, 0.06385613977909088, 0.022372249513864517, 0.013373022899031639, 0.02683691866695881, 0.009476631879806519, -0.03844056650996208, -0.0920419991016388, 0.01686871610581875, -0.02429169975221157, 0.04442223161458969, -0.05614795535802841, 0.011334193870425224, 0.06154659390449524, 0.05045041814446449, -0.05925167351961136, -0.015564661473035812, 0.005135308485478163, 0.04716772958636284, -0.03853202238678932, 0.042841747403144836, 0.015264528803527355, 0.1390845775604248, -0.04254724830389023, 0.09055542945861816, -0.054512280970811844, -0.05258534476161003, 0.052005335688591, -0.04314173385500908, 0.052992384880781174, 0.04044362157583237, -0.017214244231581688, -0.01682445779442787, -0.03215928375720978, 0.08220095187425613, -0.048719268292188644, -0.07203225791454315, 0.041725773364305496, 0.03205804154276848, -0.05239498242735863, -0.05604192614555359, 0.05114065855741501, -0.09401614218950272, -0.042700111865997314, -0.008170653134584427, 0.016492964699864388, 0.004988132510334253, 0.04464466869831085, 0.015239943750202656, 0.03380705788731575, -0.005629728082567453, -0.011112765409052372, -0.14382578432559967, -0.06287751346826553, -0.016722744330763817, -0.07699903845787048, 0.04054737463593483, -0.02114768512547016, -0.019775614142417908, -0.06753210723400116, 0.11567547172307968, 0.03329717740416527, 0.006256946362555027, 0.02608468569815159, 0.008473123423755169, -0.05093761160969734, -0.0331868976354599, 0.028184514492750168, 0.021268615499138832, -0.013330074027180672, -0.04214344173669815, 0.05994866043329239, 0.013267860747873783, 0.0019429372623562813, -0.01889258436858654, -0.006141144782304764, -0.02335274964570999, 0.1105208694934845, -1.5089000271473196e-08, 0.02273510955274105, -0.004180924966931343, 0.005227613262832165, 5.371762017603032e-05, 0.008193252608180046, -0.01637883298099041, -0.03755853697657585, 0.036174338310956955, 0.06456905603408813, 0.03048868104815483, 0.05756662040948868, -0.032419923692941666, -0.0056914533488452435, 0.016870034858584404, 0.04759391397237778, 0.01015777699649334, -0.02159525454044342, 0.02795458398759365, -0.06055163964629173, 0.09919824451208115, 0.030239684507250786, 0.017591726034879684, 0.016687927767634392, 0.03952638432383537, 0.035179272294044495, 0.012752227485179901, -0.05373320356011391, -0.07848534733057022, 0.017789963632822037, 0.0450097993016243, 0.10072014480829239, 0.04469449445605278, 0.05716730281710625, -0.050462182611227036, -0.06770838052034378, 0.024151470512151718, 0.11469319462776184, -0.015505282208323479, 0.0376812219619751, 0.059503957629203796, -0.010362843982875347, 0.016228506341576576, -0.10722394287586212, 0.009267961606383324, -0.021560434252023697, -0.03039131872355938, -0.028585614636540413, -0.02949114330112934, -0.10107384622097015, -0.03305181488394737, -0.05547714978456497, 0.041683852672576904, 0.022001534700393677, 0.07372047007083893, -0.0035017491318285465, 0.01720690354704857, -0.05954781547188759, -0.04972684755921364, -0.0583466961979866, -0.07571425288915634, 0.03949150815606117, 0.010676704347133636, 0.05496888607740402, -0.004065257962793112], [0.0626688152551651, 0.0337655171751976, -0.059840328991413116, 0.006446382962167263, -0.06335368007421494, 0.023615283891558647, 0.050433218479156494, -0.06030987948179245, -0.037824127823114395, 0.012260639108717442, -0.030272668227553368, -0.018076449632644653, -0.025587137788534164, -0.04489295184612274, 0.021169381216168404, 0.03126133978366852, 0.09001095592975616, -0.012000985443592072, 0.023874668404459953, -0.09237012267112732, -0.05788641422986984, -0.011790349148213863, 0.037925511598587036, -0.005140936467796564, 0.078159399330616, -0.02464810200035572, -0.01933693327009678, 0.016216933727264404, 0.03731101378798485, -0.005613148212432861, 0.05093061923980713, 0.005552296992391348, -0.030601713806390762, -0.07246936112642288, 0.0046271332539618015, 0.051951296627521515, 0.03342460095882416, 0.03112924098968506, 0.12092931568622589, 0.0015345169231295586, 0.0894368588924408, 0.0063641974702477455, -0.028797240927815437, -0.054454345256090164, -0.004843193106353283, -0.013608966954052448, 0.03559857979416847, -0.005601815413683653, -0.018503306433558464, -0.049862585961818695, 0.06751833856105804, -0.054689712822437286, 0.018523674458265305, -0.06004958599805832, -0.0034787855111062527, -0.02083163894712925, -0.04662175849080086, 0.036669131368398666, -0.05816242843866348, -0.0060164774768054485, -0.11184883117675781, 0.03554002568125725, 0.020484916865825653, 0.06312734633684158, 0.016003374010324478, -0.07156767696142197, 0.03781277313828468, 0.017797168344259262, 0.02505520172417164, -0.05361839756369591, 0.008616786450147629, -0.00571079459041357, 2.7300322472001426e-05, -0.0762200579047203, -0.06741773337125778, -0.07451218366622925, 0.037773746997117996, 0.05880511552095413, 0.06410664319992065, 0.005877100396901369, -0.00484480382874608, 0.011711961589753628, -0.035903237760066986, -0.004633956588804722, -0.06372615694999695, -0.03290921449661255, -0.019661419093608856, -6.72302849125117e-05, -0.0369517058134079, -0.06198149546980858, 0.008602926507592201, 0.020881280303001404, 0.014522260054945946, 0.05482082441449165, -0.024535225704312325, 0.021387837827205658, -0.017895296216011047, -0.023918041959404945, -0.0024120211601257324, 0.021735642105340958, -0.026908785104751587, 0.026646969839930534, 0.008592777885496616, 0.022892406210303307, -0.04311288520693779, 0.0028605612460523844, -0.038665831089019775, -0.029055830091238022, 0.0025703299324959517, -0.03337825834751129, -0.00928111094981432, -0.0029845833778381348, 0.05941089242696762, 0.051011208444833755, 0.004745241720229387, 0.08378651738166809, -0.008444152772426605, -0.039248988032341, -0.028243938460946083, -0.03855854272842407, -0.10233388841152191, -0.008953711949288845, -0.030197983607649803, 0.03827584907412529, -0.05149416625499725, -0.07891557365655899, -0.01527587790042162, -6.143803509177243e-33, -0.02934270165860653, -0.03503100946545601, 0.030963176861405373, 0.000705021433532238, -0.01568439044058323, -0.08619094640016556, -0.037941936403512955, -0.03504619747400284, -0.04044261947274208, 0.008100803941488266, 0.05332124978303909, -0.05846797302365303, 0.05643077567219734, -0.016400780528783798, 0.04315097630023956, -0.002158378018066287, 0.08109630644321442, 0.03768991306424141, -0.004764052573591471, 0.013228199444711208, -0.04115525260567665, -0.09157318621873856, -0.09745930880308151, -0.006267800461500883, -0.03997461497783661, 0.009529207833111286, 0.045687224715948105, 0.1142922043800354, 0.03664974123239517, 0.007149128243327141, 0.08656414598226547, 0.018445871770381927, -0.05363749340176582, 0.05292339622974396, -0.06899631023406982, 0.04931855574250221, -0.05848218500614166, 0.02143072709441185, -0.08780063688755035, 0.014158426783978939, -0.005706076975911856, 0.021899862214922905, -0.03723546862602234, 0.01420043595135212, -0.039831649512052536, 0.06292605400085449, -0.06737405061721802, -0.04956258460879326, 0.05586142838001251, 0.01400243304669857, -0.049152225255966187, -0.017874406650662422, 0.00928054191172123, 0.0008373365853913128, -0.05133095383644104, 0.05146045610308647, -0.06853454560041428, 0.09464070200920105, 0.07315721362829208, 0.07956849038600922, -0.0480901263654232, -0.07865767925977707, -0.08342660218477249, 0.0853632465004921, -0.03175797685980797, -0.05521201342344284, 0.0665859803557396, -0.046050891280174255, 0.011654446832835674, 0.051208265125751495, 0.006147604435682297, 0.04397209733724594, 0.010199282318353653, 0.1353619247674942, -0.03994906693696976, 0.004606686532497406, -0.017547018826007843, -0.030962591990828514, -0.047711655497550964, 0.07452140748500824, 0.01641250029206276, 0.026004677638411522, -0.03168368339538574, -0.12427980452775955, 0.11334148794412613, -0.06874773651361465, -0.04850902780890465, -0.031799666583538055, -0.04227590188384056, -0.070667564868927, -0.020297829061746597, 0.018010152503848076, 0.05450912192463875, -0.029991714283823967, 0.025285324081778526, 2.2866447122744554e-33, 0.08328735828399658, -0.004315366968512535, -0.05759713053703308, -0.06373634934425354, -0.040012624114751816, 0.09123207628726959, 0.16611815989017487, -0.010824033059179783, -0.013415404595434666, 0.025718970224261284, -0.05208231136202812, 0.0397660955786705, 0.031803637742996216, -0.0036824627313762903, 0.07981673628091812, -0.0017312078271061182, 0.05605722963809967, 0.040217075496912, 0.011661088094115257, 0.004912693053483963, -0.10686005651950836, -0.0021298183128237724, -0.1492510288953781, -0.03126387298107147, -0.012753495946526527, 0.019063908606767654, -0.16770116984844208, 0.0024514959659427404, -0.06399189680814743, 0.04094623401761055, 0.011184540577232838, -0.07133056223392487, -0.1277277022600174, 0.17548850178718567, -0.054125722497701645, 0.0007588344742543995, 0.01640148274600506, -0.058450937271118164, 0.02504642680287361, 0.06377702951431274, -0.026522262021899223, 0.05879706144332886, 0.06407731026411057, 0.10471190512180328, 0.06565581262111664, -0.004271301440894604, -0.03689733147621155, 0.023726869374513626, -0.020737774670124054, -0.033828239887952805, -0.011293741874396801, 0.039774660021066666, 0.0217208843678236, 0.047548823058605194, 0.11734135448932648, 0.09233757853507996, 0.0343581885099411, 0.07546710222959518, -0.03558816760778427, -0.08411697298288345, 0.024638544768095016, 0.009525512345135212, 0.004105187486857176, 0.07457330822944641, -0.10212009400129318, 0.024338383227586746, -0.005179110914468765, -0.06440189480781555, 0.04142158478498459, 0.01822378672659397, 0.021448109298944473, 0.000655208365060389, -0.1096440777182579, -0.009405246935784817, -0.05483727529644966, 0.054942481219768524, 0.02327568829059601, 0.08435315638780594, -0.03509260714054108, -0.07883425056934357, 0.04523511230945587, 0.014342641457915306, -0.01728580892086029, 0.01188269816339016, 0.03387663885951042, 0.04245781898498535, 0.0029487821739166975, 0.0024504875764250755, 0.02346796542406082, -0.05513369292020798, 0.06344068795442581, -0.019260354340076447, -0.029023677110671997, 0.01858435943722725, 0.02848329208791256, -1.5650980955683735e-08, 0.02514994703233242, -0.05115659534931183, -0.09102672338485718, -0.005802353378385305, 0.03629319369792938, 0.029376424849033356, 0.041097257286310196, -0.0007706946926191449, -0.05601168051362038, -0.04899594560265541, -0.04994549974799156, -0.024190882220864296, -0.048226431012153625, 0.05557100474834442, -0.018188010901212692, -0.011544506065547466, 0.0008397637866437435, 0.05745142698287964, -0.002265294548124075, -0.04729923978447914, -0.054334379732608795, 0.04639625549316406, -0.016577966511249542, 0.03309983015060425, -0.0016957551706582308, 0.01972970925271511, 0.00594630092382431, -0.005233739502727985, 0.05998316407203674, 0.027076736092567444, 0.03453945741057396, 0.04602283239364624, -0.025200549513101578, -0.05810854956507683, 0.07503432035446167, 0.027569480240345, 0.09689860790967941, 0.04404626786708832, 0.008802217431366444, 0.06576426327228546, 0.05213645473122597, -0.06655152887105942, 0.08513212949037552, -0.05054604634642601, 0.008689789101481438, 0.03363700211048126, -0.025113098323345184, -0.013569614849984646, -0.032925114035606384, -0.05928534269332886, -0.034134410321712494, -0.021176252514123917, 0.02791723608970642, 0.039437320083379745, 0.009506233967840672, 0.021147703751921654, -0.14411215484142303, -0.07069548219442368, -0.03159044682979584, 0.02400573156774044, 0.06318095326423645, 0.018553361296653748, 0.06909197568893433, -0.039381690323352814], [0.09750021249055862, 0.0324602909386158, 0.027851851657032967, -0.043115124106407166, 0.07592957466840744, -0.05266820639371872, 0.010422727093100548, -0.009475338272750378, 0.029920483008027077, 0.02712412178516388, -0.019010374322533607, -0.08242761343717575, 0.007861058227717876, -0.06661424785852432, -0.040554825216531754, -0.12313028424978256, -0.017501654103398323, -0.005959469825029373, 0.04160367324948311, 0.015702148899435997, -0.014666514471173286, -0.03463929891586304, 0.05559868738055229, 0.0035235078539699316, -0.05394751578569412, -0.0013526934199035168, -0.07142460346221924, -0.020476147532463074, -0.0173626858741045, 0.007123890798538923, 0.07270491868257523, -0.0364529974758625, -0.055104028433561325, -0.008487017825245857, -0.037146031856536865, -0.037503890693187714, 0.002226309385150671, -0.021600861102342606, 0.02517816610634327, 0.05008620396256447, -0.005189102608710527, -0.03841880336403847, -0.05511394888162613, -0.026030423119664192, -0.016917718574404716, 0.02659168653190136, 0.012007057666778564, 0.041026003658771515, 0.03422676399350166, -0.08888017386198044, 0.06409819424152374, 0.03182480111718178, -0.03894476965069771, -0.037474337965250015, -0.03772643953561783, 0.09660398960113525, 0.03931310772895813, 0.01700884848833084, -0.00807199627161026, 0.08101215958595276, -0.007653997745364904, -0.03850383311510086, -0.015341033227741718, 0.038020964711904526, 0.09241944551467896, 0.022786471992731094, 0.01782204955816269, 0.01767951436340809, -0.09832371771335602, 0.06413235515356064, -0.04395502060651779, 0.005706013645976782, -0.001782565494067967, -0.040132150053977966, 0.08891856670379639, -0.02347874641418457, -0.09861570596694946, 0.05145273357629776, 0.01128434855490923, 0.025046158581972122, 0.034177545458078384, -0.06257488578557968, 0.02555631287395954, 0.00917342584580183, 0.017681097611784935, -0.008509124629199505, 0.07972071319818497, 0.031122103333473206, 0.04460461437702179, -0.048379093408584595, -0.05162086337804794, 0.04127350077033043, -0.04719909653067589, 0.07805570214986801, -0.1230078637599945, 0.053674597293138504, -0.03454485908150673, 0.026865512132644653, -0.055688198655843735, 0.021024825051426888, -0.04536311328411102, 0.0028565165121108294, 0.07600998133420944, -0.06164834275841713, -0.0015582062769681215, 0.03772690147161484, -0.0006224078824743629, -0.03830072283744812, -0.02541458234190941, -0.057029519230127335, -0.08402205258607864, -0.03511480614542961, 0.033151596784591675, -0.015314070507884026, 0.024783628061413765, 0.0483170710504055, -0.029834004119038582, -0.11480750143527985, 0.010456236079335213, -0.07242634147405624, -0.034968405961990356, -0.044779807329177856, -0.017143798992037773, 0.01902371272444725, -0.05096713453531265, -0.026525262743234634, -0.03681137040257454, -7.233864399949705e-33, -0.024119289591908455, 0.08793597668409348, 0.04816269874572754, 0.015314792282879353, -0.033417534083127975, -0.0014151663053780794, -0.05949276313185692, 0.05389588326215744, 0.011504372581839561, -0.009766231290996075, 0.043718867003917694, -0.13570642471313477, -0.057633839547634125, 0.07298753410577774, 0.06827744841575623, -0.013547800481319427, 0.142878919839859, 0.07012210786342621, -0.026134073734283447, 0.0066937971860170364, 0.037936050444841385, -0.04647304117679596, 0.00834695901721716, 0.01669723354279995, 0.07696305215358734, 0.040703412145376205, -0.02693359926342964, 0.10522894561290741, -0.014680896885693073, -0.02733667753636837, -0.03048386424779892, 0.045007191598415375, 0.0715201273560524, 0.01913319155573845, 0.02232525870203972, 0.028770675882697105, 0.029868554323911667, 0.02391122654080391, 0.04461022466421127, 0.08603653311729431, 0.06081331521272659, -0.04694515839219093, -0.009243342094123363, -0.00460445461794734, 0.005640764255076647, 0.029983995482325554, -0.0243595689535141, -0.06699575483798981, 0.08266840875148773, 0.0009502078173682094, -0.007947624661028385, -0.06508079171180725, -0.05451229587197304, -0.003766462905332446, 0.043020885437726974, 0.10177543014287949, -0.10832393914461136, -0.01415333617478609, -0.006418746896088123, -0.012158549390733242, -0.003579384181648493, 0.011857070028781891, -0.046554096043109894, 0.06980253756046295, 0.03606785833835602, 0.08231194317340851, 0.03231145069003105, 0.022317519411444664, 0.0069647557102143764, -0.05361311510205269, -0.07385285198688507, 0.021807827055454254, 0.07408598065376282, 0.0469120591878891, 0.06916087865829468, 0.08501525223255157, -0.025107985362410545, 0.026358680799603462, -0.04341874644160271, -0.001866901759058237, 0.009470577351748943, -0.04920632764697075, -0.07742229849100113, 0.018096132203936577, -0.010733077302575111, -0.03527984395623207, 0.02230038307607174, 0.011091990396380424, -0.0015160448383539915, -0.04909336566925049, -0.07014821469783783, -0.13818351924419403, -0.024550458416342735, -0.037222787737846375, -0.09151177108287811, 2.8484562578736362e-33, 0.03976823389530182, 0.048110608011484146, -0.0752863958477974, 0.004480563569813967, 0.03192140907049179, 0.06593257933855057, 0.08179233223199844, -0.035049840807914734, -0.017066633328795433, 0.01955103874206543, -0.08090867847204208, -0.14492352306842804, 0.007872374728322029, -0.048017971217632294, 0.023705366998910904, 0.03803767263889313, 0.011666875332593918, -0.06690752506256104, -0.03014102205634117, -0.009696373715996742, -0.07820111513137817, -0.0003315562498755753, -0.04257119819521904, 0.011711877770721912, -0.028100913390517235, -0.009839627891778946, -0.05167912319302559, -0.023696942254900932, 0.0012333599152043462, -0.030606307089328766, -0.04674368351697922, 0.025385314598679543, 0.05928783863782883, 0.12367946654558182, 0.025766052305698395, 0.07143566757440567, 0.03525015711784363, 0.003997752908617258, 0.02617049776017666, 0.015514294616878033, -0.06465394794940948, -0.02926882542669773, 0.03291957825422287, -0.0005349595448933542, 0.061098866164684296, 0.02403901144862175, 0.0265775416046381, -0.054132938385009766, -0.006710040383040905, 0.0785321295261383, 0.03751908242702484, 0.03776642307639122, -0.056429821997880936, -0.04478178545832634, -0.00642304727807641, 0.06561774760484695, -0.0082002067938447, 0.03263719379901886, -0.07471643388271332, -0.05138099566102028, 0.04392394423484802, 0.03792639821767807, -0.025052977725863457, 0.08895419538021088, -0.015044156461954117, -0.09369546920061111, -0.0934390276670456, 0.03315247595310211, 0.004311142023652792, 0.03881446644663811, 0.09934590011835098, 0.021303117275238037, -0.04767394810914993, 0.07239888608455658, -0.05015014484524727, -0.007059931755065918, 0.050100427120923996, 0.02501506917178631, -0.005977876018732786, 0.02593151293694973, -0.049941517412662506, 0.028894811868667603, -0.010273821651935577, -0.007939918898046017, -0.03872231766581535, 0.042326681315898895, -0.05048920586705208, -0.06573486328125, 0.06036508455872536, -0.11307869851589203, 0.006199854426085949, -0.027158331125974655, -0.04914423078298569, -0.02705957740545273, 0.03873958811163902, -1.7225813664367706e-08, 0.08123504370450974, 0.03117675520479679, -0.019474036991596222, 0.017069142311811447, -0.056230831891298294, -0.1270942986011505, 0.059762127697467804, -0.003933407831937075, -0.023152681067585945, -0.04770534485578537, -0.0839599221944809, 0.06567007303237915, -0.04958014562726021, -0.058325354009866714, -0.06313560903072357, -0.016680851578712463, -0.018607091158628464, -0.012245554476976395, 0.03050166927278042, 0.07825183123350143, 0.019831497222185135, 0.023285945877432823, -0.054288506507873535, -0.052480485290288925, 0.06021732836961746, -0.09916426241397858, 0.01563524641096592, 0.02836700901389122, -0.04387222230434418, 0.03356918320059776, 0.05713026225566864, -0.05866475775837898, -0.03131325542926788, -0.08036180585622787, 0.03568338230252266, 0.013217980973422527, 0.04750598222017288, 0.014792152680456638, 0.0006168649415485561, 0.004771152511239052, 0.10492146760225296, 0.020475972443819046, 0.00974989403039217, -0.029814554378390312, 0.028458546847105026, 0.037399034947156906, 0.0889633446931839, -0.06447497010231018, 0.14279986917972565, -0.02925724722445011, -0.07778836786746979, 0.0797358825802803, -0.03346769139170647, -0.022703727707266808, -0.0301378071308136, 0.041898924857378006, -0.09851320087909698, 0.014647393487393856, 0.04636109992861748, -0.037260834127664566, -0.0103219673037529, 0.06578280031681061, 0.10492338240146637, -0.015621541067957878]]\n"
     ]
    }
   ],
   "source": [
    "from langchain_huggingface import HuggingFaceEmbeddings\n",
    "\n",
    "embedding = HuggingFaceEmbeddings(model_name='sentence-transformers/all-MiniLM-L6-v2')\n",
    "\n",
    "documents = [\n",
    "    \"Virat Kohli is a great Player\",\n",
    "    \"Lucknow is the capital of UP\",\n",
    "    \"Paris is the capital of France\"\n",
    "]\n",
    "\n",
    "vector = embedding.embed_documents(documents)\n",
    "\n",
    "print(str(vector))"
   ]
  },
  {
   "cell_type": "markdown",
   "id": "9d8bc55c",
   "metadata": {},
   "source": [
    "### Lets Practice with one example\n",
    "    - will create a system which will search most similar doc with user query"
   ]
  },
  {
   "cell_type": "code",
   "execution_count": 70,
   "id": "2a1d6db9",
   "metadata": {},
   "outputs": [],
   "source": [
    "from langchain_openai import OpenAIEmbeddings\n",
    "#from dotenv import load_dotenv\n",
    "from sklearn.metrics.pairwise import cosine_similarity"
   ]
  },
  {
   "cell_type": "markdown",
   "id": "16ec8062",
   "metadata": {},
   "source": []
  },
  {
   "cell_type": "code",
   "execution_count": 71,
   "id": "ce635a45",
   "metadata": {},
   "outputs": [],
   "source": [
    "embedding = OpenAIEmbeddings(model='text-embedding-3-large', dimensions=300)"
   ]
  },
  {
   "cell_type": "code",
   "execution_count": 72,
   "id": "7a501cfb",
   "metadata": {},
   "outputs": [],
   "source": [
    "documents = [\n",
    "    \"Lionel Messi is an Argentine footballer known for his dribbling, vision, and incredible goal-scoring ability.\",\n",
    "    \"Cristiano Ronaldo is a Portuguese forward famous for his athleticism, powerful shots, and numerous international trophies.\",\n",
    "    \"Neymar Jr is a Brazilian footballer recognized for his flair, creativity, and skillful play on the wing.\",\n",
    "    \"Kylian Mbappé is a French striker known for his explosive speed, finishing, and World Cup success at a young age.\",\n",
    "    \"Luka Modrić is a Croatian midfielder praised for his passing, control, and key role in Real Madrid's Champions League wins.\"\n",
    "]\n"
   ]
  },
  {
   "cell_type": "code",
   "execution_count": 73,
   "id": "7f6d3c69",
   "metadata": {},
   "outputs": [],
   "source": [
    "query = 'tell me about Neymar'"
   ]
  },
  {
   "cell_type": "code",
   "execution_count": 74,
   "id": "ea756d1d",
   "metadata": {},
   "outputs": [],
   "source": [
    "doc_embeddings = embedding.embed_documents(documents)"
   ]
  },
  {
   "cell_type": "code",
   "execution_count": 75,
   "id": "95e15fae",
   "metadata": {},
   "outputs": [],
   "source": [
    "query_embedding = embedding.embed_query(query)"
   ]
  },
  {
   "cell_type": "code",
   "execution_count": 78,
   "id": "ff5686d3",
   "metadata": {},
   "outputs": [],
   "source": [
    "scores = cosine_similarity([query_embedding], doc_embeddings)"
   ]
  },
  {
   "cell_type": "code",
   "execution_count": 81,
   "id": "8547a782",
   "metadata": {},
   "outputs": [
    {
     "data": {
      "text/plain": [
       "array([[0.44268949, 0.3436637 , 0.68275744, 0.43747217, 0.31004336]])"
      ]
     },
     "execution_count": 81,
     "metadata": {},
     "output_type": "execute_result"
    }
   ],
   "source": [
    "scores"
   ]
  },
  {
   "cell_type": "code",
   "execution_count": 82,
   "id": "fcf4d443",
   "metadata": {},
   "outputs": [],
   "source": [
    "scores = cosine_similarity([query_embedding], doc_embeddings)[0]"
   ]
  },
  {
   "cell_type": "code",
   "execution_count": 83,
   "id": "2301a0ac",
   "metadata": {},
   "outputs": [
    {
     "data": {
      "text/plain": [
       "array([0.44268949, 0.3436637 , 0.68275744, 0.43747217, 0.31004336])"
      ]
     },
     "execution_count": 83,
     "metadata": {},
     "output_type": "execute_result"
    }
   ],
   "source": [
    "scores"
   ]
  },
  {
   "cell_type": "code",
   "execution_count": 84,
   "id": "e9f94076",
   "metadata": {},
   "outputs": [
    {
     "data": {
      "text/plain": [
       "[(0, 0.4426894900857267),\n",
       " (1, 0.34366369886931447),\n",
       " (2, 0.6827574364511875),\n",
       " (3, 0.4374721681053735),\n",
       " (4, 0.3100433643721865)]"
      ]
     },
     "execution_count": 84,
     "metadata": {},
     "output_type": "execute_result"
    }
   ],
   "source": [
    "list(enumerate(scores))"
   ]
  },
  {
   "cell_type": "code",
   "execution_count": 85,
   "id": "5ec9bf79",
   "metadata": {},
   "outputs": [],
   "source": [
    "index, score = sorted(list(enumerate(scores)),key=lambda x:x[1])[-1]"
   ]
  },
  {
   "cell_type": "code",
   "execution_count": 86,
   "id": "a454b9c9",
   "metadata": {},
   "outputs": [
    {
     "name": "stdout",
     "output_type": "stream",
     "text": [
      "tell me about Neymar\n",
      "Neymar Jr is a Brazilian footballer recognized for his flair, creativity, and skillful play on the wing.\n",
      "similarity score is: 0.6827574364511875\n"
     ]
    }
   ],
   "source": [
    "print(query)\n",
    "print(documents[index])\n",
    "print(\"similarity score is:\", score)"
   ]
  }
 ],
 "metadata": {
  "kernelspec": {
   "display_name": "base",
   "language": "python",
   "name": "python3"
  },
  "language_info": {
   "codemirror_mode": {
    "name": "ipython",
    "version": 3
   },
   "file_extension": ".py",
   "mimetype": "text/x-python",
   "name": "python",
   "nbconvert_exporter": "python",
   "pygments_lexer": "ipython3",
   "version": "3.10.9"
  }
 },
 "nbformat": 4,
 "nbformat_minor": 5
}
